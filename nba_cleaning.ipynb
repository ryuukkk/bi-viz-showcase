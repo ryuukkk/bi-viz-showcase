{
 "cells": [
  {
   "cell_type": "code",
   "execution_count": 1,
   "metadata": {
    "collapsed": true
   },
   "outputs": [],
   "source": [
    "import pandas as pd\n",
    "import requests\n",
    "from bs4 import BeautifulSoup"
   ]
  },
  {
   "cell_type": "code",
   "execution_count": 2,
   "outputs": [],
   "source": [
    "payroll = pd.read_csv('nba data/NBA Payroll(1990-2023).csv')\n",
    "stats = pd.read_csv('nba data/NBA Player Stats(1950 - 2022).csv')\n",
    "salaries = pd.read_csv('nba data/NBA Salaries(1990-2023).csv')"
   ],
   "metadata": {
    "collapsed": false
   }
  },
  {
   "cell_type": "code",
   "execution_count": 5,
   "outputs": [
    {
     "data": {
      "text/plain": "              team  seasonStartYear       payroll inflationAdjPayroll\n0        Cleveland             1990   $14,403,000         $32,854,246\n1         New York             1990   $13,290,000         $30,315,416\n2          Detroit             1990   $12,910,000         $29,448,608\n3        LA Lakers             1990   $12,120,000         $27,646,565\n4          Atlanta             1990   $11,761,000         $26,827,658\n..             ...              ...           ...                 ...\n961       Portland             2021  $124,788,473        $136,093,994\n962      Charlotte             2021  $122,139,566        $133,205,107\n963       New York             2021  $120,644,081        $131,574,134\n964        Memphis             2021  $117,284,457        $127,910,133\n965  Oklahoma City             2021   $82,022,873         $89,453,934\n\n[966 rows x 4 columns]",
      "text/html": "<div>\n<style scoped>\n    .dataframe tbody tr th:only-of-type {\n        vertical-align: middle;\n    }\n\n    .dataframe tbody tr th {\n        vertical-align: top;\n    }\n\n    .dataframe thead th {\n        text-align: right;\n    }\n</style>\n<table border=\"1\" class=\"dataframe\">\n  <thead>\n    <tr style=\"text-align: right;\">\n      <th></th>\n      <th>team</th>\n      <th>seasonStartYear</th>\n      <th>payroll</th>\n      <th>inflationAdjPayroll</th>\n    </tr>\n  </thead>\n  <tbody>\n    <tr>\n      <th>0</th>\n      <td>Cleveland</td>\n      <td>1990</td>\n      <td>$14,403,000</td>\n      <td>$32,854,246</td>\n    </tr>\n    <tr>\n      <th>1</th>\n      <td>New York</td>\n      <td>1990</td>\n      <td>$13,290,000</td>\n      <td>$30,315,416</td>\n    </tr>\n    <tr>\n      <th>2</th>\n      <td>Detroit</td>\n      <td>1990</td>\n      <td>$12,910,000</td>\n      <td>$29,448,608</td>\n    </tr>\n    <tr>\n      <th>3</th>\n      <td>LA Lakers</td>\n      <td>1990</td>\n      <td>$12,120,000</td>\n      <td>$27,646,565</td>\n    </tr>\n    <tr>\n      <th>4</th>\n      <td>Atlanta</td>\n      <td>1990</td>\n      <td>$11,761,000</td>\n      <td>$26,827,658</td>\n    </tr>\n    <tr>\n      <th>...</th>\n      <td>...</td>\n      <td>...</td>\n      <td>...</td>\n      <td>...</td>\n    </tr>\n    <tr>\n      <th>961</th>\n      <td>Portland</td>\n      <td>2021</td>\n      <td>$124,788,473</td>\n      <td>$136,093,994</td>\n    </tr>\n    <tr>\n      <th>962</th>\n      <td>Charlotte</td>\n      <td>2021</td>\n      <td>$122,139,566</td>\n      <td>$133,205,107</td>\n    </tr>\n    <tr>\n      <th>963</th>\n      <td>New York</td>\n      <td>2021</td>\n      <td>$120,644,081</td>\n      <td>$131,574,134</td>\n    </tr>\n    <tr>\n      <th>964</th>\n      <td>Memphis</td>\n      <td>2021</td>\n      <td>$117,284,457</td>\n      <td>$127,910,133</td>\n    </tr>\n    <tr>\n      <th>965</th>\n      <td>Oklahoma City</td>\n      <td>2021</td>\n      <td>$82,022,873</td>\n      <td>$89,453,934</td>\n    </tr>\n  </tbody>\n</table>\n<p>966 rows × 4 columns</p>\n</div>"
     },
     "execution_count": 5,
     "metadata": {},
     "output_type": "execute_result"
    }
   ],
   "source": [
    "payroll = payroll.drop('Unnamed: 0', axis=1)\n",
    "payroll"
   ],
   "metadata": {
    "collapsed": false
   }
  },
  {
   "cell_type": "code",
   "execution_count": 7,
   "outputs": [
    {
     "data": {
      "text/plain": "                  team  seasonStartYear       payroll inflationAdjPayroll\nteam_id                                                                  \n0            Cleveland             1990   $14,403,000         $32,854,246\n1             New York             1990   $13,290,000         $30,315,416\n2              Detroit             1990   $12,910,000         $29,448,608\n3            LA Lakers             1990   $12,120,000         $27,646,565\n4              Atlanta             1990   $11,761,000         $26,827,658\n...                ...              ...           ...                 ...\n961           Portland             2021  $124,788,473        $136,093,994\n962          Charlotte             2021  $122,139,566        $133,205,107\n963           New York             2021  $120,644,081        $131,574,134\n964            Memphis             2021  $117,284,457        $127,910,133\n965      Oklahoma City             2021   $82,022,873         $89,453,934\n\n[966 rows x 4 columns]",
      "text/html": "<div>\n<style scoped>\n    .dataframe tbody tr th:only-of-type {\n        vertical-align: middle;\n    }\n\n    .dataframe tbody tr th {\n        vertical-align: top;\n    }\n\n    .dataframe thead th {\n        text-align: right;\n    }\n</style>\n<table border=\"1\" class=\"dataframe\">\n  <thead>\n    <tr style=\"text-align: right;\">\n      <th></th>\n      <th>team</th>\n      <th>seasonStartYear</th>\n      <th>payroll</th>\n      <th>inflationAdjPayroll</th>\n    </tr>\n    <tr>\n      <th>team_id</th>\n      <th></th>\n      <th></th>\n      <th></th>\n      <th></th>\n    </tr>\n  </thead>\n  <tbody>\n    <tr>\n      <th>0</th>\n      <td>Cleveland</td>\n      <td>1990</td>\n      <td>$14,403,000</td>\n      <td>$32,854,246</td>\n    </tr>\n    <tr>\n      <th>1</th>\n      <td>New York</td>\n      <td>1990</td>\n      <td>$13,290,000</td>\n      <td>$30,315,416</td>\n    </tr>\n    <tr>\n      <th>2</th>\n      <td>Detroit</td>\n      <td>1990</td>\n      <td>$12,910,000</td>\n      <td>$29,448,608</td>\n    </tr>\n    <tr>\n      <th>3</th>\n      <td>LA Lakers</td>\n      <td>1990</td>\n      <td>$12,120,000</td>\n      <td>$27,646,565</td>\n    </tr>\n    <tr>\n      <th>4</th>\n      <td>Atlanta</td>\n      <td>1990</td>\n      <td>$11,761,000</td>\n      <td>$26,827,658</td>\n    </tr>\n    <tr>\n      <th>...</th>\n      <td>...</td>\n      <td>...</td>\n      <td>...</td>\n      <td>...</td>\n    </tr>\n    <tr>\n      <th>961</th>\n      <td>Portland</td>\n      <td>2021</td>\n      <td>$124,788,473</td>\n      <td>$136,093,994</td>\n    </tr>\n    <tr>\n      <th>962</th>\n      <td>Charlotte</td>\n      <td>2021</td>\n      <td>$122,139,566</td>\n      <td>$133,205,107</td>\n    </tr>\n    <tr>\n      <th>963</th>\n      <td>New York</td>\n      <td>2021</td>\n      <td>$120,644,081</td>\n      <td>$131,574,134</td>\n    </tr>\n    <tr>\n      <th>964</th>\n      <td>Memphis</td>\n      <td>2021</td>\n      <td>$117,284,457</td>\n      <td>$127,910,133</td>\n    </tr>\n    <tr>\n      <th>965</th>\n      <td>Oklahoma City</td>\n      <td>2021</td>\n      <td>$82,022,873</td>\n      <td>$89,453,934</td>\n    </tr>\n  </tbody>\n</table>\n<p>966 rows × 4 columns</p>\n</div>"
     },
     "execution_count": 7,
     "metadata": {},
     "output_type": "execute_result"
    }
   ],
   "source": [
    "payroll.rename_axis('team_id', inplace=True)\n",
    "payroll"
   ],
   "metadata": {
    "collapsed": false
   }
  },
  {
   "cell_type": "code",
   "execution_count": 9,
   "outputs": [
    {
     "data": {
      "text/plain": "       Unnamed: 0.1  Unnamed: 0  Season           Player  Pos   Age   Tm  \\\n0                 0           0    1950  Curly Armstrong  G-F  31.0  FTW   \n1                 1           1    1950     Cliff Barker   SG  29.0  INO   \n2                 2           2    1950    Leo Barnhorst   SF  25.0  CHS   \n3                 3           3    1950       Ed Bartels    F  24.0  TOT   \n4                 4           4    1950       Ed Bartels    F  24.0  DNN   \n...             ...         ...     ...              ...  ...   ...  ...   \n28232         29344         837    2022   Thaddeus Young   PF  33.0  TOR   \n28233         29345         838    2022       Trae Young   PG  23.0  ATL   \n28234         29346         839    2022   Omer Yurtseven    C  23.0  MIA   \n28235         29347         840    2022      Cody Zeller    C  29.0  POR   \n28236         29348         841    2022      Ivica Zubac    C  24.0  LAC   \n\n          G    GS      MP  ...    FT%    ORB    DRB    TRB    AST   STL   BLK  \\\n0      63.0   NaN     NaN  ...  0.705    NaN    NaN    NaN  176.0   NaN   NaN   \n1      49.0   NaN     NaN  ...  0.708    NaN    NaN    NaN  109.0   NaN   NaN   \n2      67.0   NaN     NaN  ...  0.698    NaN    NaN    NaN  140.0   NaN   NaN   \n3      15.0   NaN     NaN  ...  0.559    NaN    NaN    NaN   20.0   NaN   NaN   \n4      13.0   NaN     NaN  ...  0.548    NaN    NaN    NaN   20.0   NaN   NaN   \n...     ...   ...     ...  ...    ...    ...    ...    ...    ...   ...   ...   \n28232  26.0   0.0   475.0  ...  0.481   40.0   75.0  115.0   45.0  31.0  11.0   \n28233  76.0  76.0  2652.0  ...  0.904   50.0  234.0  284.0  737.0  72.0   7.0   \n28234  56.0  12.0   706.0  ...  0.623   85.0  209.0  294.0   49.0  17.0  20.0   \n28235  27.0   0.0   355.0  ...  0.776   50.0   75.0  125.0   22.0   8.0   6.0   \n28236  76.0  76.0  1852.0  ...  0.727  217.0  427.0  644.0  120.0  36.0  77.0   \n\n         TOV     PF     PTS  \n0        NaN  217.0   458.0  \n1        NaN   99.0   279.0  \n2        NaN  192.0   438.0  \n3        NaN   29.0    63.0  \n4        NaN   27.0    59.0  \n...      ...    ...     ...  \n28232   22.0   43.0   164.0  \n28233  303.0  128.0  2155.0  \n28234   41.0   84.0   299.0  \n28235   19.0   56.0   140.0  \n28236  114.0  203.0   785.0  \n\n[28237 rows x 32 columns]",
      "text/html": "<div>\n<style scoped>\n    .dataframe tbody tr th:only-of-type {\n        vertical-align: middle;\n    }\n\n    .dataframe tbody tr th {\n        vertical-align: top;\n    }\n\n    .dataframe thead th {\n        text-align: right;\n    }\n</style>\n<table border=\"1\" class=\"dataframe\">\n  <thead>\n    <tr style=\"text-align: right;\">\n      <th></th>\n      <th>Unnamed: 0.1</th>\n      <th>Unnamed: 0</th>\n      <th>Season</th>\n      <th>Player</th>\n      <th>Pos</th>\n      <th>Age</th>\n      <th>Tm</th>\n      <th>G</th>\n      <th>GS</th>\n      <th>MP</th>\n      <th>...</th>\n      <th>FT%</th>\n      <th>ORB</th>\n      <th>DRB</th>\n      <th>TRB</th>\n      <th>AST</th>\n      <th>STL</th>\n      <th>BLK</th>\n      <th>TOV</th>\n      <th>PF</th>\n      <th>PTS</th>\n    </tr>\n  </thead>\n  <tbody>\n    <tr>\n      <th>0</th>\n      <td>0</td>\n      <td>0</td>\n      <td>1950</td>\n      <td>Curly Armstrong</td>\n      <td>G-F</td>\n      <td>31.0</td>\n      <td>FTW</td>\n      <td>63.0</td>\n      <td>NaN</td>\n      <td>NaN</td>\n      <td>...</td>\n      <td>0.705</td>\n      <td>NaN</td>\n      <td>NaN</td>\n      <td>NaN</td>\n      <td>176.0</td>\n      <td>NaN</td>\n      <td>NaN</td>\n      <td>NaN</td>\n      <td>217.0</td>\n      <td>458.0</td>\n    </tr>\n    <tr>\n      <th>1</th>\n      <td>1</td>\n      <td>1</td>\n      <td>1950</td>\n      <td>Cliff Barker</td>\n      <td>SG</td>\n      <td>29.0</td>\n      <td>INO</td>\n      <td>49.0</td>\n      <td>NaN</td>\n      <td>NaN</td>\n      <td>...</td>\n      <td>0.708</td>\n      <td>NaN</td>\n      <td>NaN</td>\n      <td>NaN</td>\n      <td>109.0</td>\n      <td>NaN</td>\n      <td>NaN</td>\n      <td>NaN</td>\n      <td>99.0</td>\n      <td>279.0</td>\n    </tr>\n    <tr>\n      <th>2</th>\n      <td>2</td>\n      <td>2</td>\n      <td>1950</td>\n      <td>Leo Barnhorst</td>\n      <td>SF</td>\n      <td>25.0</td>\n      <td>CHS</td>\n      <td>67.0</td>\n      <td>NaN</td>\n      <td>NaN</td>\n      <td>...</td>\n      <td>0.698</td>\n      <td>NaN</td>\n      <td>NaN</td>\n      <td>NaN</td>\n      <td>140.0</td>\n      <td>NaN</td>\n      <td>NaN</td>\n      <td>NaN</td>\n      <td>192.0</td>\n      <td>438.0</td>\n    </tr>\n    <tr>\n      <th>3</th>\n      <td>3</td>\n      <td>3</td>\n      <td>1950</td>\n      <td>Ed Bartels</td>\n      <td>F</td>\n      <td>24.0</td>\n      <td>TOT</td>\n      <td>15.0</td>\n      <td>NaN</td>\n      <td>NaN</td>\n      <td>...</td>\n      <td>0.559</td>\n      <td>NaN</td>\n      <td>NaN</td>\n      <td>NaN</td>\n      <td>20.0</td>\n      <td>NaN</td>\n      <td>NaN</td>\n      <td>NaN</td>\n      <td>29.0</td>\n      <td>63.0</td>\n    </tr>\n    <tr>\n      <th>4</th>\n      <td>4</td>\n      <td>4</td>\n      <td>1950</td>\n      <td>Ed Bartels</td>\n      <td>F</td>\n      <td>24.0</td>\n      <td>DNN</td>\n      <td>13.0</td>\n      <td>NaN</td>\n      <td>NaN</td>\n      <td>...</td>\n      <td>0.548</td>\n      <td>NaN</td>\n      <td>NaN</td>\n      <td>NaN</td>\n      <td>20.0</td>\n      <td>NaN</td>\n      <td>NaN</td>\n      <td>NaN</td>\n      <td>27.0</td>\n      <td>59.0</td>\n    </tr>\n    <tr>\n      <th>...</th>\n      <td>...</td>\n      <td>...</td>\n      <td>...</td>\n      <td>...</td>\n      <td>...</td>\n      <td>...</td>\n      <td>...</td>\n      <td>...</td>\n      <td>...</td>\n      <td>...</td>\n      <td>...</td>\n      <td>...</td>\n      <td>...</td>\n      <td>...</td>\n      <td>...</td>\n      <td>...</td>\n      <td>...</td>\n      <td>...</td>\n      <td>...</td>\n      <td>...</td>\n      <td>...</td>\n    </tr>\n    <tr>\n      <th>28232</th>\n      <td>29344</td>\n      <td>837</td>\n      <td>2022</td>\n      <td>Thaddeus Young</td>\n      <td>PF</td>\n      <td>33.0</td>\n      <td>TOR</td>\n      <td>26.0</td>\n      <td>0.0</td>\n      <td>475.0</td>\n      <td>...</td>\n      <td>0.481</td>\n      <td>40.0</td>\n      <td>75.0</td>\n      <td>115.0</td>\n      <td>45.0</td>\n      <td>31.0</td>\n      <td>11.0</td>\n      <td>22.0</td>\n      <td>43.0</td>\n      <td>164.0</td>\n    </tr>\n    <tr>\n      <th>28233</th>\n      <td>29345</td>\n      <td>838</td>\n      <td>2022</td>\n      <td>Trae Young</td>\n      <td>PG</td>\n      <td>23.0</td>\n      <td>ATL</td>\n      <td>76.0</td>\n      <td>76.0</td>\n      <td>2652.0</td>\n      <td>...</td>\n      <td>0.904</td>\n      <td>50.0</td>\n      <td>234.0</td>\n      <td>284.0</td>\n      <td>737.0</td>\n      <td>72.0</td>\n      <td>7.0</td>\n      <td>303.0</td>\n      <td>128.0</td>\n      <td>2155.0</td>\n    </tr>\n    <tr>\n      <th>28234</th>\n      <td>29346</td>\n      <td>839</td>\n      <td>2022</td>\n      <td>Omer Yurtseven</td>\n      <td>C</td>\n      <td>23.0</td>\n      <td>MIA</td>\n      <td>56.0</td>\n      <td>12.0</td>\n      <td>706.0</td>\n      <td>...</td>\n      <td>0.623</td>\n      <td>85.0</td>\n      <td>209.0</td>\n      <td>294.0</td>\n      <td>49.0</td>\n      <td>17.0</td>\n      <td>20.0</td>\n      <td>41.0</td>\n      <td>84.0</td>\n      <td>299.0</td>\n    </tr>\n    <tr>\n      <th>28235</th>\n      <td>29347</td>\n      <td>840</td>\n      <td>2022</td>\n      <td>Cody Zeller</td>\n      <td>C</td>\n      <td>29.0</td>\n      <td>POR</td>\n      <td>27.0</td>\n      <td>0.0</td>\n      <td>355.0</td>\n      <td>...</td>\n      <td>0.776</td>\n      <td>50.0</td>\n      <td>75.0</td>\n      <td>125.0</td>\n      <td>22.0</td>\n      <td>8.0</td>\n      <td>6.0</td>\n      <td>19.0</td>\n      <td>56.0</td>\n      <td>140.0</td>\n    </tr>\n    <tr>\n      <th>28236</th>\n      <td>29348</td>\n      <td>841</td>\n      <td>2022</td>\n      <td>Ivica Zubac</td>\n      <td>C</td>\n      <td>24.0</td>\n      <td>LAC</td>\n      <td>76.0</td>\n      <td>76.0</td>\n      <td>1852.0</td>\n      <td>...</td>\n      <td>0.727</td>\n      <td>217.0</td>\n      <td>427.0</td>\n      <td>644.0</td>\n      <td>120.0</td>\n      <td>36.0</td>\n      <td>77.0</td>\n      <td>114.0</td>\n      <td>203.0</td>\n      <td>785.0</td>\n    </tr>\n  </tbody>\n</table>\n<p>28237 rows × 32 columns</p>\n</div>"
     },
     "execution_count": 9,
     "metadata": {},
     "output_type": "execute_result"
    }
   ],
   "source": [
    "team_short = pd.DataFrame({})"
   ],
   "metadata": {
    "collapsed": false
   }
  },
  {
   "cell_type": "code",
   "execution_count": 15,
   "outputs": [],
   "source": [
    "from bs4 import BeautifulSoup\n",
    "import requests"
   ],
   "metadata": {
    "collapsed": false
   }
  },
  {
   "cell_type": "code",
   "execution_count": 16,
   "outputs": [],
   "source": [
    "response = requests.get('https://en.wikipedia.org/wiki/Wikipedia:WikiProject_National_Basketball_Association/National_Basketball_Association_team_abbreviations')\n",
    "html = response.text\n",
    "soup = BeautifulSoup(html, 'html.parser')"
   ],
   "metadata": {
    "collapsed": false
   }
  },
  {
   "cell_type": "code",
   "execution_count": 81,
   "outputs": [],
   "source": [
    "short = []\n",
    "long = []\n",
    "for mini_soup in soup.find('tbody').find_all('tr'):\n",
    "    try:\n",
    "        long.append(mini_soup.find('a')['title'])\n",
    "    except Exception:\n",
    "        long.append(None)"
   ],
   "metadata": {
    "collapsed": false
   }
  },
  {
   "cell_type": "code",
   "execution_count": 82,
   "outputs": [],
   "source": [
    "for mini_soup in soup.find('tbody').find_all('tr'):\n",
    "    short.append(mini_soup.find('td').text.strip())"
   ],
   "metadata": {
    "collapsed": false
   }
  },
  {
   "cell_type": "code",
   "execution_count": 90,
   "outputs": [],
   "source": [
    "sett = set()\n",
    "for i in stats.Tm:\n",
    "    if i not in short:\n",
    "        sett.add(i)"
   ],
   "metadata": {
    "collapsed": false
   }
  },
  {
   "cell_type": "code",
   "execution_count": 95,
   "outputs": [
    {
     "data": {
      "text/plain": "TOT    2504\nNYK    1147\nBOS    1105\nDET    1029\nPHI     985\n       ... \nAND      16\nDNN      15\nCAP      14\nSTB      14\nCHS      13\nName: Tm, Length: 69, dtype: int64"
     },
     "execution_count": 95,
     "metadata": {},
     "output_type": "execute_result"
    }
   ],
   "source": [
    "stats.Tm.value_counts()"
   ],
   "metadata": {
    "collapsed": false
   }
  },
  {
   "cell_type": "code",
   "execution_count": 96,
   "outputs": [],
   "source": [
    "short.append('BAL')\n",
    "long.append('Baltimore Bullets')"
   ],
   "metadata": {
    "collapsed": false
   }
  },
  {
   "cell_type": "code",
   "execution_count": 21,
   "outputs": [],
   "source": [
    "short = []\n",
    "long = []\n",
    "html = requests.get('http://www.shrpsports.com/nba/explain.htm').text\n",
    "soup2 = BeautifulSoup(html, 'html.parser')\n",
    "\n",
    "for mini_soup in soup2.find_all('tr', class_ = 'font1big'):\n",
    "    i = mini_soup.find('td', width=50)\n",
    "    j = mini_soup.find('td', width=424)\n",
    "    if i is not None:\n",
    "        short.append(i.text.upper())\n",
    "    if j is not None:\n",
    "        long.append(j.text.title())\n",
    "    # print(mini_soup.find('td', width = 50).text.upper())\n",
    "    # print((mini_soup.find('td', width = 424)))"
   ],
   "metadata": {
    "collapsed": false
   }
  },
  {
   "cell_type": "code",
   "execution_count": 22,
   "outputs": [],
   "source": [
    "for mini_soup in soup2.find_all('tr', class_ = 'font2big'):\n",
    "    i = mini_soup.find('td', width=50)\n",
    "    j = mini_soup.find('td', width=424)\n",
    "    if i is not None:\n",
    "        short.append(i.text.upper())\n",
    "    if j is not None:\n",
    "        long.append(j.text.title())"
   ],
   "metadata": {
    "collapsed": false
   }
  },
  {
   "cell_type": "code",
   "execution_count": 23,
   "outputs": [
    {
     "data": {
      "text/plain": "   Team Short                                          Team Long\n0         ATL                  Atlanta Hawks (1968-69 - Present)\n1         BLB   Baltimore Bullets (1St Team) (1947-48 - 1953-54)\n2         BOS                 Boston Celtics (1946-47 - Present)\n3         BUF                 Buffalo Braves (1970-71 - 1977-78)\n4         CHA  Charlotte Hornets (1988-89 - 2001-02, 2014-15 ...\n..        ...                                                ...\n68        SYR             Syracuse Nationals (1949-50 - 1962-63)\n69        TOR                Toronto Raptors (1995-96 - Present)\n70        UTA                      Utah Jazz (1979-80 - Present)\n71        WSC            Washington Capitols (1946-47 - 1949-50)\n72        WSH             Washington Wizards (1997-98 - Present)\n\n[73 rows x 2 columns]",
      "text/html": "<div>\n<style scoped>\n    .dataframe tbody tr th:only-of-type {\n        vertical-align: middle;\n    }\n\n    .dataframe tbody tr th {\n        vertical-align: top;\n    }\n\n    .dataframe thead th {\n        text-align: right;\n    }\n</style>\n<table border=\"1\" class=\"dataframe\">\n  <thead>\n    <tr style=\"text-align: right;\">\n      <th></th>\n      <th>Team Short</th>\n      <th>Team Long</th>\n    </tr>\n  </thead>\n  <tbody>\n    <tr>\n      <th>0</th>\n      <td>ATL</td>\n      <td>Atlanta Hawks (1968-69 - Present)</td>\n    </tr>\n    <tr>\n      <th>1</th>\n      <td>BLB</td>\n      <td>Baltimore Bullets (1St Team) (1947-48 - 1953-54)</td>\n    </tr>\n    <tr>\n      <th>2</th>\n      <td>BOS</td>\n      <td>Boston Celtics (1946-47 - Present)</td>\n    </tr>\n    <tr>\n      <th>3</th>\n      <td>BUF</td>\n      <td>Buffalo Braves (1970-71 - 1977-78)</td>\n    </tr>\n    <tr>\n      <th>4</th>\n      <td>CHA</td>\n      <td>Charlotte Hornets (1988-89 - 2001-02, 2014-15 ...</td>\n    </tr>\n    <tr>\n      <th>...</th>\n      <td>...</td>\n      <td>...</td>\n    </tr>\n    <tr>\n      <th>68</th>\n      <td>SYR</td>\n      <td>Syracuse Nationals (1949-50 - 1962-63)</td>\n    </tr>\n    <tr>\n      <th>69</th>\n      <td>TOR</td>\n      <td>Toronto Raptors (1995-96 - Present)</td>\n    </tr>\n    <tr>\n      <th>70</th>\n      <td>UTA</td>\n      <td>Utah Jazz (1979-80 - Present)</td>\n    </tr>\n    <tr>\n      <th>71</th>\n      <td>WSC</td>\n      <td>Washington Capitols (1946-47 - 1949-50)</td>\n    </tr>\n    <tr>\n      <th>72</th>\n      <td>WSH</td>\n      <td>Washington Wizards (1997-98 - Present)</td>\n    </tr>\n  </tbody>\n</table>\n<p>73 rows × 2 columns</p>\n</div>"
     },
     "execution_count": 23,
     "metadata": {},
     "output_type": "execute_result"
    }
   ],
   "source": [
    "abr = pd.DataFrame({'Team Short':short, 'Team Long':long})\n",
    "abr"
   ],
   "metadata": {
    "collapsed": false
   }
  },
  {
   "cell_type": "code",
   "execution_count": 138,
   "outputs": [
    {
     "ename": "KeyError",
     "evalue": "'data'",
     "output_type": "error",
     "traceback": [
      "\u001B[1;31m---------------------------------------------------------------------------\u001B[0m",
      "\u001B[1;31mKeyError\u001B[0m                                  Traceback (most recent call last)",
      "Cell \u001B[1;32mIn[138], line 3\u001B[0m\n\u001B[0;32m      1\u001B[0m common\u001B[38;5;241m=\u001B[39m\u001B[38;5;28mlist\u001B[39m(\u001B[38;5;28mset\u001B[39m(abr[\u001B[38;5;124m'\u001B[39m\u001B[38;5;124mTeam Short\u001B[39m\u001B[38;5;124m'\u001B[39m]) \u001B[38;5;129;01mand\u001B[39;00m \u001B[38;5;28mset\u001B[39m(stats[\u001B[38;5;124m'\u001B[39m\u001B[38;5;124mTm\u001B[39m\u001B[38;5;124m'\u001B[39m]))\n\u001B[0;32m      2\u001B[0m common \u001B[38;5;241m=\u001B[39m pd\u001B[38;5;241m.\u001B[39mSeries(common)\n\u001B[1;32m----> 3\u001B[0m common\u001B[38;5;241m.\u001B[39mindex \u001B[38;5;241m=\u001B[39m \u001B[43mcommon\u001B[49m\u001B[43m[\u001B[49m\u001B[38;5;124;43m'\u001B[39;49m\u001B[38;5;124;43mdata\u001B[39;49m\u001B[38;5;124;43m'\u001B[39;49m\u001B[43m]\u001B[49m\n",
      "File \u001B[1;32m~\\DataspellProjects\\ipl-analysis\\venv\\lib\\site-packages\\pandas\\core\\series.py:981\u001B[0m, in \u001B[0;36mSeries.__getitem__\u001B[1;34m(self, key)\u001B[0m\n\u001B[0;32m    978\u001B[0m     \u001B[38;5;28;01mreturn\u001B[39;00m \u001B[38;5;28mself\u001B[39m\u001B[38;5;241m.\u001B[39m_values[key]\n\u001B[0;32m    980\u001B[0m \u001B[38;5;28;01melif\u001B[39;00m key_is_scalar:\n\u001B[1;32m--> 981\u001B[0m     \u001B[38;5;28;01mreturn\u001B[39;00m \u001B[38;5;28;43mself\u001B[39;49m\u001B[38;5;241;43m.\u001B[39;49m\u001B[43m_get_value\u001B[49m\u001B[43m(\u001B[49m\u001B[43mkey\u001B[49m\u001B[43m)\u001B[49m\n\u001B[0;32m    983\u001B[0m \u001B[38;5;28;01mif\u001B[39;00m is_hashable(key):\n\u001B[0;32m    984\u001B[0m     \u001B[38;5;66;03m# Otherwise index.get_value will raise InvalidIndexError\u001B[39;00m\n\u001B[0;32m    985\u001B[0m     \u001B[38;5;28;01mtry\u001B[39;00m:\n\u001B[0;32m    986\u001B[0m         \u001B[38;5;66;03m# For labels that don't resolve as scalars like tuples and frozensets\u001B[39;00m\n",
      "File \u001B[1;32m~\\DataspellProjects\\ipl-analysis\\venv\\lib\\site-packages\\pandas\\core\\series.py:1089\u001B[0m, in \u001B[0;36mSeries._get_value\u001B[1;34m(self, label, takeable)\u001B[0m\n\u001B[0;32m   1086\u001B[0m     \u001B[38;5;28;01mreturn\u001B[39;00m \u001B[38;5;28mself\u001B[39m\u001B[38;5;241m.\u001B[39m_values[label]\n\u001B[0;32m   1088\u001B[0m \u001B[38;5;66;03m# Similar to Index.get_value, but we do not fall back to positional\u001B[39;00m\n\u001B[1;32m-> 1089\u001B[0m loc \u001B[38;5;241m=\u001B[39m \u001B[38;5;28;43mself\u001B[39;49m\u001B[38;5;241;43m.\u001B[39;49m\u001B[43mindex\u001B[49m\u001B[38;5;241;43m.\u001B[39;49m\u001B[43mget_loc\u001B[49m\u001B[43m(\u001B[49m\u001B[43mlabel\u001B[49m\u001B[43m)\u001B[49m\n\u001B[0;32m   1090\u001B[0m \u001B[38;5;28;01mreturn\u001B[39;00m \u001B[38;5;28mself\u001B[39m\u001B[38;5;241m.\u001B[39mindex\u001B[38;5;241m.\u001B[39m_get_values_for_loc(\u001B[38;5;28mself\u001B[39m, loc, label)\n",
      "File \u001B[1;32m~\\DataspellProjects\\ipl-analysis\\venv\\lib\\site-packages\\pandas\\core\\indexes\\range.py:395\u001B[0m, in \u001B[0;36mRangeIndex.get_loc\u001B[1;34m(self, key, method, tolerance)\u001B[0m\n\u001B[0;32m    393\u001B[0m             \u001B[38;5;28;01mraise\u001B[39;00m \u001B[38;5;167;01mKeyError\u001B[39;00m(key) \u001B[38;5;28;01mfrom\u001B[39;00m \u001B[38;5;21;01merr\u001B[39;00m\n\u001B[0;32m    394\u001B[0m     \u001B[38;5;28mself\u001B[39m\u001B[38;5;241m.\u001B[39m_check_indexing_error(key)\n\u001B[1;32m--> 395\u001B[0m     \u001B[38;5;28;01mraise\u001B[39;00m \u001B[38;5;167;01mKeyError\u001B[39;00m(key)\n\u001B[0;32m    396\u001B[0m \u001B[38;5;28;01mreturn\u001B[39;00m \u001B[38;5;28msuper\u001B[39m()\u001B[38;5;241m.\u001B[39mget_loc(key, method\u001B[38;5;241m=\u001B[39mmethod, tolerance\u001B[38;5;241m=\u001B[39mtolerance)\n",
      "\u001B[1;31mKeyError\u001B[0m: 'data'"
     ]
    }
   ],
   "source": [
    "common=list(set(abr['Team Short']) and set(stats['Tm']))\n",
    "common = pd.Series(common)"
   ],
   "metadata": {
    "collapsed": false
   }
  },
  {
   "cell_type": "code",
   "execution_count": 144,
   "outputs": [
    {
     "ename": "ValueError",
     "evalue": "Can only compare identically-labeled Series objects",
     "output_type": "error",
     "traceback": [
      "\u001B[1;31m---------------------------------------------------------------------------\u001B[0m",
      "\u001B[1;31mValueError\u001B[0m                                Traceback (most recent call last)",
      "Cell \u001B[1;32mIn[144], line 1\u001B[0m\n\u001B[1;32m----> 1\u001B[0m abr[\u001B[43mabr\u001B[49m\u001B[43m[\u001B[49m\u001B[38;5;124;43m'\u001B[39;49m\u001B[38;5;124;43mTeam Short\u001B[39;49m\u001B[38;5;124;43m'\u001B[39;49m\u001B[43m]\u001B[49m\u001B[38;5;241;43m==\u001B[39;49m\u001B[43mcommon\u001B[49m]\n",
      "File \u001B[1;32m~\\DataspellProjects\\ipl-analysis\\venv\\lib\\site-packages\\pandas\\core\\ops\\common.py:72\u001B[0m, in \u001B[0;36m_unpack_zerodim_and_defer.<locals>.new_method\u001B[1;34m(self, other)\u001B[0m\n\u001B[0;32m     68\u001B[0m             \u001B[38;5;28;01mreturn\u001B[39;00m \u001B[38;5;28mNotImplemented\u001B[39m\n\u001B[0;32m     70\u001B[0m other \u001B[38;5;241m=\u001B[39m item_from_zerodim(other)\n\u001B[1;32m---> 72\u001B[0m \u001B[38;5;28;01mreturn\u001B[39;00m \u001B[43mmethod\u001B[49m\u001B[43m(\u001B[49m\u001B[38;5;28;43mself\u001B[39;49m\u001B[43m,\u001B[49m\u001B[43m \u001B[49m\u001B[43mother\u001B[49m\u001B[43m)\u001B[49m\n",
      "File \u001B[1;32m~\\DataspellProjects\\ipl-analysis\\venv\\lib\\site-packages\\pandas\\core\\arraylike.py:42\u001B[0m, in \u001B[0;36mOpsMixin.__eq__\u001B[1;34m(self, other)\u001B[0m\n\u001B[0;32m     40\u001B[0m \u001B[38;5;129m@unpack_zerodim_and_defer\u001B[39m(\u001B[38;5;124m\"\u001B[39m\u001B[38;5;124m__eq__\u001B[39m\u001B[38;5;124m\"\u001B[39m)\n\u001B[0;32m     41\u001B[0m \u001B[38;5;28;01mdef\u001B[39;00m \u001B[38;5;21m__eq__\u001B[39m(\u001B[38;5;28mself\u001B[39m, other):\n\u001B[1;32m---> 42\u001B[0m     \u001B[38;5;28;01mreturn\u001B[39;00m \u001B[38;5;28;43mself\u001B[39;49m\u001B[38;5;241;43m.\u001B[39;49m\u001B[43m_cmp_method\u001B[49m\u001B[43m(\u001B[49m\u001B[43mother\u001B[49m\u001B[43m,\u001B[49m\u001B[43m \u001B[49m\u001B[43moperator\u001B[49m\u001B[38;5;241;43m.\u001B[39;49m\u001B[43meq\u001B[49m\u001B[43m)\u001B[49m\n",
      "File \u001B[1;32m~\\DataspellProjects\\ipl-analysis\\venv\\lib\\site-packages\\pandas\\core\\series.py:6237\u001B[0m, in \u001B[0;36mSeries._cmp_method\u001B[1;34m(self, other, op)\u001B[0m\n\u001B[0;32m   6234\u001B[0m res_name \u001B[38;5;241m=\u001B[39m ops\u001B[38;5;241m.\u001B[39mget_op_result_name(\u001B[38;5;28mself\u001B[39m, other)\n\u001B[0;32m   6236\u001B[0m \u001B[38;5;28;01mif\u001B[39;00m \u001B[38;5;28misinstance\u001B[39m(other, Series) \u001B[38;5;129;01mand\u001B[39;00m \u001B[38;5;129;01mnot\u001B[39;00m \u001B[38;5;28mself\u001B[39m\u001B[38;5;241m.\u001B[39m_indexed_same(other):\n\u001B[1;32m-> 6237\u001B[0m     \u001B[38;5;28;01mraise\u001B[39;00m \u001B[38;5;167;01mValueError\u001B[39;00m(\u001B[38;5;124m\"\u001B[39m\u001B[38;5;124mCan only compare identically-labeled Series objects\u001B[39m\u001B[38;5;124m\"\u001B[39m)\n\u001B[0;32m   6239\u001B[0m lvalues \u001B[38;5;241m=\u001B[39m \u001B[38;5;28mself\u001B[39m\u001B[38;5;241m.\u001B[39m_values\n\u001B[0;32m   6240\u001B[0m rvalues \u001B[38;5;241m=\u001B[39m extract_array(other, extract_numpy\u001B[38;5;241m=\u001B[39m\u001B[38;5;28;01mTrue\u001B[39;00m, extract_range\u001B[38;5;241m=\u001B[39m\u001B[38;5;28;01mTrue\u001B[39;00m)\n",
      "\u001B[1;31mValueError\u001B[0m: Can only compare identically-labeled Series objects"
     ]
    }
   ],
   "source": [
    "abr[abr['Team Short']==common]"
   ],
   "metadata": {
    "collapsed": false
   }
  },
  {
   "cell_type": "code",
   "execution_count": 146,
   "outputs": [],
   "source": [
    "stats = stats.merge(abr, how='inner', left_on='Tm', right_on='Team Short')"
   ],
   "metadata": {
    "collapsed": false
   }
  },
  {
   "cell_type": "code",
   "execution_count": 149,
   "outputs": [],
   "source": [
    "stats.to_csv('nba data/NBA Player Stats.csv')"
   ],
   "metadata": {
    "collapsed": false
   }
  },
  {
   "cell_type": "code",
   "execution_count": 158,
   "outputs": [
    {
     "data": {
      "text/plain": "Boston Celtics (1946-47 - Present)                            1105\nDetroit Pistons (1957-58 - Present)                           1029\nPhiladelphia 76Ers (1963-64 - Present)                         985\nLos Angeles Lakers (1960-61 - Present)                         944\nMilwaukee Bucks (1968-69 - Present)                            910\nCleveland Cavaliers (1970-71 - Present)                        904\nChicago Bulls (1966-67 - Present)                              899\nAtlanta Hawks (1968-69 - Present)                              895\nPhoenix Suns (1968-69 - Present)                               869\nHouston Rockets (1971-72 - Present)                            862\nPortland Trailblazers (1970-71 - Present)                      821\nDenver Nuggets (2Nd Team) (1976-77 - Present)                  773\nDallas Mavericks (1980-81 - Present)                           728\nIndiana Pacers (1976-77 - Present)                             726\nUtah Jazz (1979-80 - Present)                                  678\nLos Angeles Clippers (1984-85 - Present)                       673\nSacramento Kings (1985-86 - Present)                           638\nSeattle Supersonics (1967-68 - 2007-08)                        606\nMiami Heat (1988-89 - Present)                                 589\nOrlando Magic (1989-90 - Present)                              574\nMinnesota Timberwolves (1989-90 - Present)                     550\nToronto Raptors (1995-96 - Present)                            505\nMemphis Grizzlies (2001-02 - Present)                          402\nWashington Bullets (1974-75 - 1996-97)                         355\nOklahoma City (2008-09 - Present)                              264\nCincinnati Royals (1957-58 - 1971-72)                          199\nSt Louis Hawks (1955-56 - 1967-68)                             187\nCharlotte Hornets (1988-89 - 2001-02, 2014-15 - Present)       183\nSyracuse Nationals (1949-50 - 1962-63)                         176\nPhiladelphia Warriors (1946-47 - 1961-62)                      170\nNew Orleans Hornets (2002-03 - 2004-05, 2007-08 - 2012-13)     161\nBaltimore Bullets (2Nd Team) (1963-64 - 1972-73)               144\nMinneapolis Lakers (1948-49 - 1959-60)                         135\nBuffalo Braves (1970-71 - 1977-78)                             120\nFt Wayne Pistons (1948-49 - 1956-57)                           114\nBaltimore Bullets (1St Team) (1947-48 - 1953-54)               107\nVancouver Grizzlies (1995-96 - 2000-01)                         98\nRochester Royals (1948-49 - 1956-57)                            94\nNew Orleans Jazz (1974-75 - 1978-79)                            77\nMilwaukee Hawks (1951-52 - 1954-55)                             75\nIndianapolis Olympians (1949-50 - 1952-53)                      52\nSan Diego Rockets (1967-68 - 1970-71)                           51\nKc-Omaha Kings (1972-73 - 1974-75)                              48\nTri-Cities Blackhawks (1949-50 - 1950-51)                       42\nNew Orleans/Oklahoma City Hornets (2005-06 - 2006-07)           34\nWashington Capitols (1946-47 - 1949-50)                         31\nWaterloo Hawks (1949-50)                                        21\nNew York Nets (1976-77)                                         18\nChicago Packers (1961-62)                                       17\nSheboygan Redskins (1949-50)                                    17\nChicago Zephyrs (1962-63)                                       17\nAnderson Packers (1949-50)                                      16\nDenver Nuggets (1St Team) (1949-50)                             15\nCapital Bullets (1973-74)                                       14\nSt Louis Bombers (1946-47 - 1949-50)                            14\nChicago Stags (1946-47 - 1949-50)                               13\nName: Team Long, dtype: int64"
     },
     "execution_count": 158,
     "metadata": {},
     "output_type": "execute_result"
    }
   ],
   "source": [
    "stats[\"Team Long\"].value_counts()"
   ],
   "metadata": {
    "collapsed": false
   }
  },
  {
   "cell_type": "code",
   "execution_count": 187,
   "outputs": [
    {
     "data": {
      "text/plain": "   Team Short            Team Long\n0         ATL        Atlanta Hawks\n1         BLB    Baltimore Bullets\n2         BOS       Boston Celtics\n3         BUF       Buffalo Braves\n4         CHA    Charlotte Hornets\n..        ...                  ...\n68        SYR   Syracuse Nationals\n69        TOR      Toronto Raptors\n70        UTA            Utah Jazz\n71        WSC  Washington Capitols\n72        WSH   Washington Wizards\n\n[73 rows x 2 columns]",
      "text/html": "<div>\n<style scoped>\n    .dataframe tbody tr th:only-of-type {\n        vertical-align: middle;\n    }\n\n    .dataframe tbody tr th {\n        vertical-align: top;\n    }\n\n    .dataframe thead th {\n        text-align: right;\n    }\n</style>\n<table border=\"1\" class=\"dataframe\">\n  <thead>\n    <tr style=\"text-align: right;\">\n      <th></th>\n      <th>Team Short</th>\n      <th>Team Long</th>\n    </tr>\n  </thead>\n  <tbody>\n    <tr>\n      <th>0</th>\n      <td>ATL</td>\n      <td>Atlanta Hawks</td>\n    </tr>\n    <tr>\n      <th>1</th>\n      <td>BLB</td>\n      <td>Baltimore Bullets</td>\n    </tr>\n    <tr>\n      <th>2</th>\n      <td>BOS</td>\n      <td>Boston Celtics</td>\n    </tr>\n    <tr>\n      <th>3</th>\n      <td>BUF</td>\n      <td>Buffalo Braves</td>\n    </tr>\n    <tr>\n      <th>4</th>\n      <td>CHA</td>\n      <td>Charlotte Hornets</td>\n    </tr>\n    <tr>\n      <th>...</th>\n      <td>...</td>\n      <td>...</td>\n    </tr>\n    <tr>\n      <th>68</th>\n      <td>SYR</td>\n      <td>Syracuse Nationals</td>\n    </tr>\n    <tr>\n      <th>69</th>\n      <td>TOR</td>\n      <td>Toronto Raptors</td>\n    </tr>\n    <tr>\n      <th>70</th>\n      <td>UTA</td>\n      <td>Utah Jazz</td>\n    </tr>\n    <tr>\n      <th>71</th>\n      <td>WSC</td>\n      <td>Washington Capitols</td>\n    </tr>\n    <tr>\n      <th>72</th>\n      <td>WSH</td>\n      <td>Washington Wizards</td>\n    </tr>\n  </tbody>\n</table>\n<p>73 rows × 2 columns</p>\n</div>"
     },
     "execution_count": 187,
     "metadata": {},
     "output_type": "execute_result"
    }
   ],
   "source": [
    "abr['Team Long'] = abr['Team Long'].str.split(' \\(', expand=True)[0]\n",
    "abr"
   ],
   "metadata": {
    "collapsed": false
   }
  },
  {
   "cell_type": "code",
   "execution_count": 160,
   "outputs": [],
   "source": [
    "payroll['team'] = payroll.team.replace({'Boston':'Boston Celtics', 'Detroit':'Detroit Pistons', 'Philadelphia':'Philadelphia 76Ers',\n",
    "                      'LA Lakers':'Los Angeles Lakers', 'Milwaukee':'Milwaukee Bucks', 'Cleveland':'Cleveland Cavaliers', 'Chicago':'Chicago Bulls', 'Atlanta':'Atlanta Hawks', 'Phoenix':'Phoenix Suns', 'Houston':'Houston Rockets', 'Portland':'Portland Trailblazers', 'Denver':'Denver Nuggets', 'Dallas':'Dallas Mavericks', 'Indiana':'Indiana Pacers', 'Utah':'Utah Jazz', 'LA Clippers':'Los Angeles Clippers', 'Sacramento':'Sacramento Kings', 'Miami':'Miami Heat', 'Orlando':'Orlando Magic','Minnesota':'Minnesota Timberwolves', 'Toronto':'Toronto Raptors', 'Memphis':'Memphis Grizzlies', 'Oklahoma City':'Oklahoma City', })"
   ],
   "metadata": {
    "collapsed": false
   }
  },
  {
   "cell_type": "code",
   "execution_count": 188,
   "outputs": [
    {
     "data": {
      "text/plain": "                    team  seasonStartYear       payroll inflationAdjPayroll  \\\n0    Cleveland Cavaliers             1990   $14,403,000         $32,854,246   \n1    Cleveland Cavaliers             1991   $16,882,000         $36,781,775   \n2    Cleveland Cavaliers             1992   $19,676,000         $41,584,979   \n3    Cleveland Cavaliers             1993   $23,711,000         $48,655,325   \n4    Cleveland Cavaliers             1994   $28,106,000         $56,271,053   \n..                   ...              ...           ...                 ...   \n777      Toronto Raptors             2018  $137,793,831        $162,030,191   \n778      Toronto Raptors             2019  $122,463,495        $141,668,046   \n779      Toronto Raptors             2020  $129,131,910        $148,423,773   \n780      Toronto Raptors             2021  $134,896,484        $147,117,769   \n781      Toronto Raptors             2021  $134,896,484        $147,117,769   \n\n    Team Short            Team Long  \n0          CLE  Cleveland Cavaliers  \n1          CLE  Cleveland Cavaliers  \n2          CLE  Cleveland Cavaliers  \n3          CLE  Cleveland Cavaliers  \n4          CLE  Cleveland Cavaliers  \n..         ...                  ...  \n777        TOR      Toronto Raptors  \n778        TOR      Toronto Raptors  \n779        TOR      Toronto Raptors  \n780        TOR      Toronto Raptors  \n781        TOR      Toronto Raptors  \n\n[782 rows x 6 columns]",
      "text/html": "<div>\n<style scoped>\n    .dataframe tbody tr th:only-of-type {\n        vertical-align: middle;\n    }\n\n    .dataframe tbody tr th {\n        vertical-align: top;\n    }\n\n    .dataframe thead th {\n        text-align: right;\n    }\n</style>\n<table border=\"1\" class=\"dataframe\">\n  <thead>\n    <tr style=\"text-align: right;\">\n      <th></th>\n      <th>team</th>\n      <th>seasonStartYear</th>\n      <th>payroll</th>\n      <th>inflationAdjPayroll</th>\n      <th>Team Short</th>\n      <th>Team Long</th>\n    </tr>\n  </thead>\n  <tbody>\n    <tr>\n      <th>0</th>\n      <td>Cleveland Cavaliers</td>\n      <td>1990</td>\n      <td>$14,403,000</td>\n      <td>$32,854,246</td>\n      <td>CLE</td>\n      <td>Cleveland Cavaliers</td>\n    </tr>\n    <tr>\n      <th>1</th>\n      <td>Cleveland Cavaliers</td>\n      <td>1991</td>\n      <td>$16,882,000</td>\n      <td>$36,781,775</td>\n      <td>CLE</td>\n      <td>Cleveland Cavaliers</td>\n    </tr>\n    <tr>\n      <th>2</th>\n      <td>Cleveland Cavaliers</td>\n      <td>1992</td>\n      <td>$19,676,000</td>\n      <td>$41,584,979</td>\n      <td>CLE</td>\n      <td>Cleveland Cavaliers</td>\n    </tr>\n    <tr>\n      <th>3</th>\n      <td>Cleveland Cavaliers</td>\n      <td>1993</td>\n      <td>$23,711,000</td>\n      <td>$48,655,325</td>\n      <td>CLE</td>\n      <td>Cleveland Cavaliers</td>\n    </tr>\n    <tr>\n      <th>4</th>\n      <td>Cleveland Cavaliers</td>\n      <td>1994</td>\n      <td>$28,106,000</td>\n      <td>$56,271,053</td>\n      <td>CLE</td>\n      <td>Cleveland Cavaliers</td>\n    </tr>\n    <tr>\n      <th>...</th>\n      <td>...</td>\n      <td>...</td>\n      <td>...</td>\n      <td>...</td>\n      <td>...</td>\n      <td>...</td>\n    </tr>\n    <tr>\n      <th>777</th>\n      <td>Toronto Raptors</td>\n      <td>2018</td>\n      <td>$137,793,831</td>\n      <td>$162,030,191</td>\n      <td>TOR</td>\n      <td>Toronto Raptors</td>\n    </tr>\n    <tr>\n      <th>778</th>\n      <td>Toronto Raptors</td>\n      <td>2019</td>\n      <td>$122,463,495</td>\n      <td>$141,668,046</td>\n      <td>TOR</td>\n      <td>Toronto Raptors</td>\n    </tr>\n    <tr>\n      <th>779</th>\n      <td>Toronto Raptors</td>\n      <td>2020</td>\n      <td>$129,131,910</td>\n      <td>$148,423,773</td>\n      <td>TOR</td>\n      <td>Toronto Raptors</td>\n    </tr>\n    <tr>\n      <th>780</th>\n      <td>Toronto Raptors</td>\n      <td>2021</td>\n      <td>$134,896,484</td>\n      <td>$147,117,769</td>\n      <td>TOR</td>\n      <td>Toronto Raptors</td>\n    </tr>\n    <tr>\n      <th>781</th>\n      <td>Toronto Raptors</td>\n      <td>2021</td>\n      <td>$134,896,484</td>\n      <td>$147,117,769</td>\n      <td>TOR</td>\n      <td>Toronto Raptors</td>\n    </tr>\n  </tbody>\n</table>\n<p>782 rows × 6 columns</p>\n</div>"
     },
     "execution_count": 188,
     "metadata": {},
     "output_type": "execute_result"
    }
   ],
   "source": [
    "payroll = payroll.merge(abr, how='inner', left_on='team', right_on='Team Long')\n",
    "payroll"
   ],
   "metadata": {
    "collapsed": false
   }
  },
  {
   "cell_type": "code",
   "execution_count": 194,
   "outputs": [],
   "source": [
    "salaries.to_csv('nba data/player_sal_lookup.csv')"
   ],
   "metadata": {
    "collapsed": false
   }
  },
  {
   "cell_type": "code",
   "execution_count": 195,
   "outputs": [],
   "source": [
    "stats.to_csv('nba data/player_stats.csv')"
   ],
   "metadata": {
    "collapsed": false
   }
  },
  {
   "cell_type": "code",
   "execution_count": 196,
   "outputs": [],
   "source": [
    "payroll.to_csv('nba data/team_lookup.csv')"
   ],
   "metadata": {
    "collapsed": false
   }
  },
  {
   "cell_type": "code",
   "execution_count": 4,
   "outputs": [],
   "source": [
    "salaries = pd.read_csv('nba data/player_sal_lookup.csv')\n",
    "stats = pd.read_csv('nba data/player_stats.csv')\n",
    "team = pd.read_csv('nba data/team_lookup.csv')"
   ],
   "metadata": {
    "collapsed": false
   }
  },
  {
   "cell_type": "code",
   "execution_count": 8,
   "outputs": [],
   "source": [
    "stats.drop(['Unnamed: 0', 'Unnamed: 0.1', 'Unnamed: 0.2'], inplace=True, axis=1)"
   ],
   "metadata": {
    "collapsed": false
   }
  },
  {
   "cell_type": "code",
   "execution_count": 9,
   "outputs": [
    {
     "data": {
      "text/plain": "       Season            Player  Pos   Age   Tm     G    GS      MP     FG  \\\n0        1950   Curly Armstrong  G-F  31.0  FTW  63.0   NaN     NaN  144.0   \n1        1950     Charlie Black  F-C  28.0  FTW  36.0   NaN     NaN  125.0   \n2        1950     Bob Carpenter  F-C  32.0  FTW  66.0   NaN     NaN  212.0   \n3        1950        Bob Harris  F-C  22.0  FTW  62.0   NaN     NaN  168.0   \n4        1950        Bill Henry    C  25.0  FTW  44.0   NaN     NaN   65.0   \n...       ...               ...  ...   ...  ...   ...   ...     ...    ...   \n20739    2022    Zavier Simpson   PG  24.0  OKC   4.0   4.0   174.0   19.0   \n20740    2022  Lindy Waters III   SG  24.0  OKC  25.0   1.0   465.0   71.0   \n20741    2022       Paul Watson   SF  27.0  OKC   9.0   3.0   156.0   12.0   \n20742    2022     Aaron Wiggins   SG  23.0  OKC  50.0  35.0  1209.0  156.0   \n20743    2022  Kenrich Williams   SF  27.0  OKC  49.0   0.0  1072.0  146.0   \n\n         FGA  ...    DRB    TRB    AST   STL   BLK   TOV     PF    PTS  \\\n0      516.0  ...    NaN    NaN  176.0   NaN   NaN   NaN  217.0  458.0   \n1      435.0  ...    NaN    NaN   75.0   NaN   NaN   NaN  140.0  382.0   \n2      617.0  ...    NaN    NaN   92.0   NaN   NaN   NaN  168.0  614.0   \n3      465.0  ...    NaN    NaN  129.0   NaN   NaN   NaN  190.0  476.0   \n4      209.0  ...    NaN    NaN   39.0   NaN   NaN   NaN   99.0  214.0   \n...      ...  ...    ...    ...    ...   ...   ...   ...    ...    ...   \n20739   52.0  ...   19.0   21.0   30.0   5.0   4.0  10.0   15.0   44.0   \n20740  175.0  ...   67.0   73.0   24.0  19.0   8.0  11.0   31.0  199.0   \n20741   35.0  ...   24.0   27.0    8.0   3.0   3.0   4.0   10.0   31.0   \n20742  337.0  ...  127.0  178.0   68.0  30.0  10.0  54.0   93.0  416.0   \n20743  317.0  ...  145.0  220.0  108.0  44.0  10.0  46.0   81.0  363.0   \n\n       Team Short                             Team Long  \n0             FTW  Ft Wayne Pistons (1948-49 - 1956-57)  \n1             FTW  Ft Wayne Pistons (1948-49 - 1956-57)  \n2             FTW  Ft Wayne Pistons (1948-49 - 1956-57)  \n3             FTW  Ft Wayne Pistons (1948-49 - 1956-57)  \n4             FTW  Ft Wayne Pistons (1948-49 - 1956-57)  \n...           ...                                   ...  \n20739         OKC     Oklahoma City (2008-09 - Present)  \n20740         OKC     Oklahoma City (2008-09 - Present)  \n20741         OKC     Oklahoma City (2008-09 - Present)  \n20742         OKC     Oklahoma City (2008-09 - Present)  \n20743         OKC     Oklahoma City (2008-09 - Present)  \n\n[20744 rows x 32 columns]",
      "text/html": "<div>\n<style scoped>\n    .dataframe tbody tr th:only-of-type {\n        vertical-align: middle;\n    }\n\n    .dataframe tbody tr th {\n        vertical-align: top;\n    }\n\n    .dataframe thead th {\n        text-align: right;\n    }\n</style>\n<table border=\"1\" class=\"dataframe\">\n  <thead>\n    <tr style=\"text-align: right;\">\n      <th></th>\n      <th>Season</th>\n      <th>Player</th>\n      <th>Pos</th>\n      <th>Age</th>\n      <th>Tm</th>\n      <th>G</th>\n      <th>GS</th>\n      <th>MP</th>\n      <th>FG</th>\n      <th>FGA</th>\n      <th>...</th>\n      <th>DRB</th>\n      <th>TRB</th>\n      <th>AST</th>\n      <th>STL</th>\n      <th>BLK</th>\n      <th>TOV</th>\n      <th>PF</th>\n      <th>PTS</th>\n      <th>Team Short</th>\n      <th>Team Long</th>\n    </tr>\n  </thead>\n  <tbody>\n    <tr>\n      <th>0</th>\n      <td>1950</td>\n      <td>Curly Armstrong</td>\n      <td>G-F</td>\n      <td>31.0</td>\n      <td>FTW</td>\n      <td>63.0</td>\n      <td>NaN</td>\n      <td>NaN</td>\n      <td>144.0</td>\n      <td>516.0</td>\n      <td>...</td>\n      <td>NaN</td>\n      <td>NaN</td>\n      <td>176.0</td>\n      <td>NaN</td>\n      <td>NaN</td>\n      <td>NaN</td>\n      <td>217.0</td>\n      <td>458.0</td>\n      <td>FTW</td>\n      <td>Ft Wayne Pistons (1948-49 - 1956-57)</td>\n    </tr>\n    <tr>\n      <th>1</th>\n      <td>1950</td>\n      <td>Charlie Black</td>\n      <td>F-C</td>\n      <td>28.0</td>\n      <td>FTW</td>\n      <td>36.0</td>\n      <td>NaN</td>\n      <td>NaN</td>\n      <td>125.0</td>\n      <td>435.0</td>\n      <td>...</td>\n      <td>NaN</td>\n      <td>NaN</td>\n      <td>75.0</td>\n      <td>NaN</td>\n      <td>NaN</td>\n      <td>NaN</td>\n      <td>140.0</td>\n      <td>382.0</td>\n      <td>FTW</td>\n      <td>Ft Wayne Pistons (1948-49 - 1956-57)</td>\n    </tr>\n    <tr>\n      <th>2</th>\n      <td>1950</td>\n      <td>Bob Carpenter</td>\n      <td>F-C</td>\n      <td>32.0</td>\n      <td>FTW</td>\n      <td>66.0</td>\n      <td>NaN</td>\n      <td>NaN</td>\n      <td>212.0</td>\n      <td>617.0</td>\n      <td>...</td>\n      <td>NaN</td>\n      <td>NaN</td>\n      <td>92.0</td>\n      <td>NaN</td>\n      <td>NaN</td>\n      <td>NaN</td>\n      <td>168.0</td>\n      <td>614.0</td>\n      <td>FTW</td>\n      <td>Ft Wayne Pistons (1948-49 - 1956-57)</td>\n    </tr>\n    <tr>\n      <th>3</th>\n      <td>1950</td>\n      <td>Bob Harris</td>\n      <td>F-C</td>\n      <td>22.0</td>\n      <td>FTW</td>\n      <td>62.0</td>\n      <td>NaN</td>\n      <td>NaN</td>\n      <td>168.0</td>\n      <td>465.0</td>\n      <td>...</td>\n      <td>NaN</td>\n      <td>NaN</td>\n      <td>129.0</td>\n      <td>NaN</td>\n      <td>NaN</td>\n      <td>NaN</td>\n      <td>190.0</td>\n      <td>476.0</td>\n      <td>FTW</td>\n      <td>Ft Wayne Pistons (1948-49 - 1956-57)</td>\n    </tr>\n    <tr>\n      <th>4</th>\n      <td>1950</td>\n      <td>Bill Henry</td>\n      <td>C</td>\n      <td>25.0</td>\n      <td>FTW</td>\n      <td>44.0</td>\n      <td>NaN</td>\n      <td>NaN</td>\n      <td>65.0</td>\n      <td>209.0</td>\n      <td>...</td>\n      <td>NaN</td>\n      <td>NaN</td>\n      <td>39.0</td>\n      <td>NaN</td>\n      <td>NaN</td>\n      <td>NaN</td>\n      <td>99.0</td>\n      <td>214.0</td>\n      <td>FTW</td>\n      <td>Ft Wayne Pistons (1948-49 - 1956-57)</td>\n    </tr>\n    <tr>\n      <th>...</th>\n      <td>...</td>\n      <td>...</td>\n      <td>...</td>\n      <td>...</td>\n      <td>...</td>\n      <td>...</td>\n      <td>...</td>\n      <td>...</td>\n      <td>...</td>\n      <td>...</td>\n      <td>...</td>\n      <td>...</td>\n      <td>...</td>\n      <td>...</td>\n      <td>...</td>\n      <td>...</td>\n      <td>...</td>\n      <td>...</td>\n      <td>...</td>\n      <td>...</td>\n      <td>...</td>\n    </tr>\n    <tr>\n      <th>20739</th>\n      <td>2022</td>\n      <td>Zavier Simpson</td>\n      <td>PG</td>\n      <td>24.0</td>\n      <td>OKC</td>\n      <td>4.0</td>\n      <td>4.0</td>\n      <td>174.0</td>\n      <td>19.0</td>\n      <td>52.0</td>\n      <td>...</td>\n      <td>19.0</td>\n      <td>21.0</td>\n      <td>30.0</td>\n      <td>5.0</td>\n      <td>4.0</td>\n      <td>10.0</td>\n      <td>15.0</td>\n      <td>44.0</td>\n      <td>OKC</td>\n      <td>Oklahoma City (2008-09 - Present)</td>\n    </tr>\n    <tr>\n      <th>20740</th>\n      <td>2022</td>\n      <td>Lindy Waters III</td>\n      <td>SG</td>\n      <td>24.0</td>\n      <td>OKC</td>\n      <td>25.0</td>\n      <td>1.0</td>\n      <td>465.0</td>\n      <td>71.0</td>\n      <td>175.0</td>\n      <td>...</td>\n      <td>67.0</td>\n      <td>73.0</td>\n      <td>24.0</td>\n      <td>19.0</td>\n      <td>8.0</td>\n      <td>11.0</td>\n      <td>31.0</td>\n      <td>199.0</td>\n      <td>OKC</td>\n      <td>Oklahoma City (2008-09 - Present)</td>\n    </tr>\n    <tr>\n      <th>20741</th>\n      <td>2022</td>\n      <td>Paul Watson</td>\n      <td>SF</td>\n      <td>27.0</td>\n      <td>OKC</td>\n      <td>9.0</td>\n      <td>3.0</td>\n      <td>156.0</td>\n      <td>12.0</td>\n      <td>35.0</td>\n      <td>...</td>\n      <td>24.0</td>\n      <td>27.0</td>\n      <td>8.0</td>\n      <td>3.0</td>\n      <td>3.0</td>\n      <td>4.0</td>\n      <td>10.0</td>\n      <td>31.0</td>\n      <td>OKC</td>\n      <td>Oklahoma City (2008-09 - Present)</td>\n    </tr>\n    <tr>\n      <th>20742</th>\n      <td>2022</td>\n      <td>Aaron Wiggins</td>\n      <td>SG</td>\n      <td>23.0</td>\n      <td>OKC</td>\n      <td>50.0</td>\n      <td>35.0</td>\n      <td>1209.0</td>\n      <td>156.0</td>\n      <td>337.0</td>\n      <td>...</td>\n      <td>127.0</td>\n      <td>178.0</td>\n      <td>68.0</td>\n      <td>30.0</td>\n      <td>10.0</td>\n      <td>54.0</td>\n      <td>93.0</td>\n      <td>416.0</td>\n      <td>OKC</td>\n      <td>Oklahoma City (2008-09 - Present)</td>\n    </tr>\n    <tr>\n      <th>20743</th>\n      <td>2022</td>\n      <td>Kenrich Williams</td>\n      <td>SF</td>\n      <td>27.0</td>\n      <td>OKC</td>\n      <td>49.0</td>\n      <td>0.0</td>\n      <td>1072.0</td>\n      <td>146.0</td>\n      <td>317.0</td>\n      <td>...</td>\n      <td>145.0</td>\n      <td>220.0</td>\n      <td>108.0</td>\n      <td>44.0</td>\n      <td>10.0</td>\n      <td>46.0</td>\n      <td>81.0</td>\n      <td>363.0</td>\n      <td>OKC</td>\n      <td>Oklahoma City (2008-09 - Present)</td>\n    </tr>\n  </tbody>\n</table>\n<p>20744 rows × 32 columns</p>\n</div>"
     },
     "execution_count": 9,
     "metadata": {},
     "output_type": "execute_result"
    }
   ],
   "source": [
    "stats"
   ],
   "metadata": {
    "collapsed": false
   }
  },
  {
   "cell_type": "code",
   "execution_count": 12,
   "outputs": [
    {
     "data": {
      "text/plain": "                       Player  Pos   Age Team Short\n0             Curly Armstrong  G-F  31.0        FTW\n1               Charlie Black  F-C  28.0        FTW\n2               Bob Carpenter  F-C  32.0        FTW\n3                  Bob Harris  F-C  22.0        FTW\n4                  Bill Henry    C  25.0        FTW\n...                       ...  ...   ...        ...\n20736  Jeremiah Robinson-Earl    C  21.0        OKC\n20738            Olivier Sarr    C  22.0        OKC\n20739          Zavier Simpson   PG  24.0        OKC\n20740        Lindy Waters III   SG  24.0        OKC\n20742           Aaron Wiggins   SG  23.0        OKC\n\n[4161 rows x 4 columns]",
      "text/html": "<div>\n<style scoped>\n    .dataframe tbody tr th:only-of-type {\n        vertical-align: middle;\n    }\n\n    .dataframe tbody tr th {\n        vertical-align: top;\n    }\n\n    .dataframe thead th {\n        text-align: right;\n    }\n</style>\n<table border=\"1\" class=\"dataframe\">\n  <thead>\n    <tr style=\"text-align: right;\">\n      <th></th>\n      <th>Player</th>\n      <th>Pos</th>\n      <th>Age</th>\n      <th>Team Short</th>\n    </tr>\n  </thead>\n  <tbody>\n    <tr>\n      <th>0</th>\n      <td>Curly Armstrong</td>\n      <td>G-F</td>\n      <td>31.0</td>\n      <td>FTW</td>\n    </tr>\n    <tr>\n      <th>1</th>\n      <td>Charlie Black</td>\n      <td>F-C</td>\n      <td>28.0</td>\n      <td>FTW</td>\n    </tr>\n    <tr>\n      <th>2</th>\n      <td>Bob Carpenter</td>\n      <td>F-C</td>\n      <td>32.0</td>\n      <td>FTW</td>\n    </tr>\n    <tr>\n      <th>3</th>\n      <td>Bob Harris</td>\n      <td>F-C</td>\n      <td>22.0</td>\n      <td>FTW</td>\n    </tr>\n    <tr>\n      <th>4</th>\n      <td>Bill Henry</td>\n      <td>C</td>\n      <td>25.0</td>\n      <td>FTW</td>\n    </tr>\n    <tr>\n      <th>...</th>\n      <td>...</td>\n      <td>...</td>\n      <td>...</td>\n      <td>...</td>\n    </tr>\n    <tr>\n      <th>20736</th>\n      <td>Jeremiah Robinson-Earl</td>\n      <td>C</td>\n      <td>21.0</td>\n      <td>OKC</td>\n    </tr>\n    <tr>\n      <th>20738</th>\n      <td>Olivier Sarr</td>\n      <td>C</td>\n      <td>22.0</td>\n      <td>OKC</td>\n    </tr>\n    <tr>\n      <th>20739</th>\n      <td>Zavier Simpson</td>\n      <td>PG</td>\n      <td>24.0</td>\n      <td>OKC</td>\n    </tr>\n    <tr>\n      <th>20740</th>\n      <td>Lindy Waters III</td>\n      <td>SG</td>\n      <td>24.0</td>\n      <td>OKC</td>\n    </tr>\n    <tr>\n      <th>20742</th>\n      <td>Aaron Wiggins</td>\n      <td>SG</td>\n      <td>23.0</td>\n      <td>OKC</td>\n    </tr>\n  </tbody>\n</table>\n<p>4161 rows × 4 columns</p>\n</div>"
     },
     "execution_count": 12,
     "metadata": {},
     "output_type": "execute_result"
    }
   ],
   "source": [
    "player_lookup = stats[['Player', 'Pos', 'Age', 'Team Short']].drop_duplicates('Player')\n",
    "player_lookup"
   ],
   "metadata": {
    "collapsed": false
   }
  },
  {
   "cell_type": "code",
   "execution_count": 35,
   "outputs": [
    {
     "data": {
      "text/plain": "0           Atlanta Hawks\n1       Baltimore Bullets\n2          Boston Celtics\n3          Buffalo Braves\n4       Charlotte Hornets\n             ...         \n68     Syracuse Nationals\n69        Toronto Raptors\n70              Utah Jazz\n71    Washington Capitols\n72     Washington Wizards\nName: 0, Length: 73, dtype: object"
     },
     "execution_count": 35,
     "metadata": {},
     "output_type": "execute_result"
    }
   ],
   "source": [
    "long_team = abr['Team Long'].str.split(' \\(', expand=True)[0]\n",
    "long_team"
   ],
   "metadata": {
    "collapsed": false
   }
  },
  {
   "cell_type": "code",
   "execution_count": 37,
   "outputs": [
    {
     "data": {
      "text/plain": "   Team Short            Team Long\n0         ATL        Atlanta Hawks\n1         BLB    Baltimore Bullets\n2         BOS       Boston Celtics\n3         BUF       Buffalo Braves\n4         CHA    Charlotte Hornets\n..        ...                  ...\n68        SYR   Syracuse Nationals\n69        TOR      Toronto Raptors\n70        UTA            Utah Jazz\n71        WSC  Washington Capitols\n72        WSH   Washington Wizards\n\n[73 rows x 2 columns]",
      "text/html": "<div>\n<style scoped>\n    .dataframe tbody tr th:only-of-type {\n        vertical-align: middle;\n    }\n\n    .dataframe tbody tr th {\n        vertical-align: top;\n    }\n\n    .dataframe thead th {\n        text-align: right;\n    }\n</style>\n<table border=\"1\" class=\"dataframe\">\n  <thead>\n    <tr style=\"text-align: right;\">\n      <th></th>\n      <th>Team Short</th>\n      <th>Team Long</th>\n    </tr>\n  </thead>\n  <tbody>\n    <tr>\n      <th>0</th>\n      <td>ATL</td>\n      <td>Atlanta Hawks</td>\n    </tr>\n    <tr>\n      <th>1</th>\n      <td>BLB</td>\n      <td>Baltimore Bullets</td>\n    </tr>\n    <tr>\n      <th>2</th>\n      <td>BOS</td>\n      <td>Boston Celtics</td>\n    </tr>\n    <tr>\n      <th>3</th>\n      <td>BUF</td>\n      <td>Buffalo Braves</td>\n    </tr>\n    <tr>\n      <th>4</th>\n      <td>CHA</td>\n      <td>Charlotte Hornets</td>\n    </tr>\n    <tr>\n      <th>...</th>\n      <td>...</td>\n      <td>...</td>\n    </tr>\n    <tr>\n      <th>68</th>\n      <td>SYR</td>\n      <td>Syracuse Nationals</td>\n    </tr>\n    <tr>\n      <th>69</th>\n      <td>TOR</td>\n      <td>Toronto Raptors</td>\n    </tr>\n    <tr>\n      <th>70</th>\n      <td>UTA</td>\n      <td>Utah Jazz</td>\n    </tr>\n    <tr>\n      <th>71</th>\n      <td>WSC</td>\n      <td>Washington Capitols</td>\n    </tr>\n    <tr>\n      <th>72</th>\n      <td>WSH</td>\n      <td>Washington Wizards</td>\n    </tr>\n  </tbody>\n</table>\n<p>73 rows × 2 columns</p>\n</div>"
     },
     "execution_count": 37,
     "metadata": {},
     "output_type": "execute_result"
    }
   ],
   "source": [
    "abr['Team Long'] = long_team"
   ],
   "metadata": {
    "collapsed": false
   }
  },
  {
   "cell_type": "code",
   "execution_count": 38,
   "outputs": [],
   "source": [
    "team_lookup = abr\n",
    "team_lookup.to_csv('nba data/team_lookup.csv')"
   ],
   "metadata": {
    "collapsed": false
   }
  },
  {
   "cell_type": "code",
   "execution_count": 39,
   "outputs": [],
   "source": [
    "player_lookup.to_csv('nba data/player_lookup.csv')"
   ],
   "metadata": {
    "collapsed": false
   }
  },
  {
   "cell_type": "code",
   "execution_count": 42,
   "outputs": [],
   "source": [
    "stats.drop(['Team Long'], inplace=True, axis=1)"
   ],
   "metadata": {
    "collapsed": false
   }
  },
  {
   "cell_type": "code",
   "execution_count": 44,
   "outputs": [
    {
     "data": {
      "text/plain": "       Season            Player  Pos   Age   Tm     G    GS      MP     FG  \\\n0        1950   Curly Armstrong  G-F  31.0  FTW  63.0   NaN     NaN  144.0   \n1        1950     Charlie Black  F-C  28.0  FTW  36.0   NaN     NaN  125.0   \n2        1950     Bob Carpenter  F-C  32.0  FTW  66.0   NaN     NaN  212.0   \n3        1950        Bob Harris  F-C  22.0  FTW  62.0   NaN     NaN  168.0   \n4        1950        Bill Henry    C  25.0  FTW  44.0   NaN     NaN   65.0   \n...       ...               ...  ...   ...  ...   ...   ...     ...    ...   \n20739    2022    Zavier Simpson   PG  24.0  OKC   4.0   4.0   174.0   19.0   \n20740    2022  Lindy Waters III   SG  24.0  OKC  25.0   1.0   465.0   71.0   \n20741    2022       Paul Watson   SF  27.0  OKC   9.0   3.0   156.0   12.0   \n20742    2022     Aaron Wiggins   SG  23.0  OKC  50.0  35.0  1209.0  156.0   \n20743    2022  Kenrich Williams   SF  27.0  OKC  49.0   0.0  1072.0  146.0   \n\n         FGA  ...    FT%   ORB    DRB    TRB    AST   STL   BLK   TOV     PF  \\\n0      516.0  ...  0.705   NaN    NaN    NaN  176.0   NaN   NaN   NaN  217.0   \n1      435.0  ...  0.632   NaN    NaN    NaN   75.0   NaN   NaN   NaN  140.0   \n2      617.0  ...  0.742   NaN    NaN    NaN   92.0   NaN   NaN   NaN  168.0   \n3      465.0  ...  0.628   NaN    NaN    NaN  129.0   NaN   NaN   NaN  190.0   \n4      209.0  ...  0.672   NaN    NaN    NaN   39.0   NaN   NaN   NaN   99.0   \n...      ...  ...    ...   ...    ...    ...    ...   ...   ...   ...    ...   \n20739   52.0  ...  1.000   2.0   19.0   21.0   30.0   5.0   4.0  10.0   15.0   \n20740  175.0  ...  0.800   6.0   67.0   73.0   24.0  19.0   8.0  11.0   31.0   \n20741   35.0  ...  0.500   3.0   24.0   27.0    8.0   3.0   3.0   4.0   10.0   \n20742  337.0  ...  0.729  51.0  127.0  178.0   68.0  30.0  10.0  54.0   93.0   \n20743  317.0  ...  0.545  75.0  145.0  220.0  108.0  44.0  10.0  46.0   81.0   \n\n         PTS  \n0      458.0  \n1      382.0  \n2      614.0  \n3      476.0  \n4      214.0  \n...      ...  \n20739   44.0  \n20740  199.0  \n20741   31.0  \n20742  416.0  \n20743  363.0  \n\n[20744 rows x 30 columns]",
      "text/html": "<div>\n<style scoped>\n    .dataframe tbody tr th:only-of-type {\n        vertical-align: middle;\n    }\n\n    .dataframe tbody tr th {\n        vertical-align: top;\n    }\n\n    .dataframe thead th {\n        text-align: right;\n    }\n</style>\n<table border=\"1\" class=\"dataframe\">\n  <thead>\n    <tr style=\"text-align: right;\">\n      <th></th>\n      <th>Season</th>\n      <th>Player</th>\n      <th>Pos</th>\n      <th>Age</th>\n      <th>Tm</th>\n      <th>G</th>\n      <th>GS</th>\n      <th>MP</th>\n      <th>FG</th>\n      <th>FGA</th>\n      <th>...</th>\n      <th>FT%</th>\n      <th>ORB</th>\n      <th>DRB</th>\n      <th>TRB</th>\n      <th>AST</th>\n      <th>STL</th>\n      <th>BLK</th>\n      <th>TOV</th>\n      <th>PF</th>\n      <th>PTS</th>\n    </tr>\n  </thead>\n  <tbody>\n    <tr>\n      <th>0</th>\n      <td>1950</td>\n      <td>Curly Armstrong</td>\n      <td>G-F</td>\n      <td>31.0</td>\n      <td>FTW</td>\n      <td>63.0</td>\n      <td>NaN</td>\n      <td>NaN</td>\n      <td>144.0</td>\n      <td>516.0</td>\n      <td>...</td>\n      <td>0.705</td>\n      <td>NaN</td>\n      <td>NaN</td>\n      <td>NaN</td>\n      <td>176.0</td>\n      <td>NaN</td>\n      <td>NaN</td>\n      <td>NaN</td>\n      <td>217.0</td>\n      <td>458.0</td>\n    </tr>\n    <tr>\n      <th>1</th>\n      <td>1950</td>\n      <td>Charlie Black</td>\n      <td>F-C</td>\n      <td>28.0</td>\n      <td>FTW</td>\n      <td>36.0</td>\n      <td>NaN</td>\n      <td>NaN</td>\n      <td>125.0</td>\n      <td>435.0</td>\n      <td>...</td>\n      <td>0.632</td>\n      <td>NaN</td>\n      <td>NaN</td>\n      <td>NaN</td>\n      <td>75.0</td>\n      <td>NaN</td>\n      <td>NaN</td>\n      <td>NaN</td>\n      <td>140.0</td>\n      <td>382.0</td>\n    </tr>\n    <tr>\n      <th>2</th>\n      <td>1950</td>\n      <td>Bob Carpenter</td>\n      <td>F-C</td>\n      <td>32.0</td>\n      <td>FTW</td>\n      <td>66.0</td>\n      <td>NaN</td>\n      <td>NaN</td>\n      <td>212.0</td>\n      <td>617.0</td>\n      <td>...</td>\n      <td>0.742</td>\n      <td>NaN</td>\n      <td>NaN</td>\n      <td>NaN</td>\n      <td>92.0</td>\n      <td>NaN</td>\n      <td>NaN</td>\n      <td>NaN</td>\n      <td>168.0</td>\n      <td>614.0</td>\n    </tr>\n    <tr>\n      <th>3</th>\n      <td>1950</td>\n      <td>Bob Harris</td>\n      <td>F-C</td>\n      <td>22.0</td>\n      <td>FTW</td>\n      <td>62.0</td>\n      <td>NaN</td>\n      <td>NaN</td>\n      <td>168.0</td>\n      <td>465.0</td>\n      <td>...</td>\n      <td>0.628</td>\n      <td>NaN</td>\n      <td>NaN</td>\n      <td>NaN</td>\n      <td>129.0</td>\n      <td>NaN</td>\n      <td>NaN</td>\n      <td>NaN</td>\n      <td>190.0</td>\n      <td>476.0</td>\n    </tr>\n    <tr>\n      <th>4</th>\n      <td>1950</td>\n      <td>Bill Henry</td>\n      <td>C</td>\n      <td>25.0</td>\n      <td>FTW</td>\n      <td>44.0</td>\n      <td>NaN</td>\n      <td>NaN</td>\n      <td>65.0</td>\n      <td>209.0</td>\n      <td>...</td>\n      <td>0.672</td>\n      <td>NaN</td>\n      <td>NaN</td>\n      <td>NaN</td>\n      <td>39.0</td>\n      <td>NaN</td>\n      <td>NaN</td>\n      <td>NaN</td>\n      <td>99.0</td>\n      <td>214.0</td>\n    </tr>\n    <tr>\n      <th>...</th>\n      <td>...</td>\n      <td>...</td>\n      <td>...</td>\n      <td>...</td>\n      <td>...</td>\n      <td>...</td>\n      <td>...</td>\n      <td>...</td>\n      <td>...</td>\n      <td>...</td>\n      <td>...</td>\n      <td>...</td>\n      <td>...</td>\n      <td>...</td>\n      <td>...</td>\n      <td>...</td>\n      <td>...</td>\n      <td>...</td>\n      <td>...</td>\n      <td>...</td>\n      <td>...</td>\n    </tr>\n    <tr>\n      <th>20739</th>\n      <td>2022</td>\n      <td>Zavier Simpson</td>\n      <td>PG</td>\n      <td>24.0</td>\n      <td>OKC</td>\n      <td>4.0</td>\n      <td>4.0</td>\n      <td>174.0</td>\n      <td>19.0</td>\n      <td>52.0</td>\n      <td>...</td>\n      <td>1.000</td>\n      <td>2.0</td>\n      <td>19.0</td>\n      <td>21.0</td>\n      <td>30.0</td>\n      <td>5.0</td>\n      <td>4.0</td>\n      <td>10.0</td>\n      <td>15.0</td>\n      <td>44.0</td>\n    </tr>\n    <tr>\n      <th>20740</th>\n      <td>2022</td>\n      <td>Lindy Waters III</td>\n      <td>SG</td>\n      <td>24.0</td>\n      <td>OKC</td>\n      <td>25.0</td>\n      <td>1.0</td>\n      <td>465.0</td>\n      <td>71.0</td>\n      <td>175.0</td>\n      <td>...</td>\n      <td>0.800</td>\n      <td>6.0</td>\n      <td>67.0</td>\n      <td>73.0</td>\n      <td>24.0</td>\n      <td>19.0</td>\n      <td>8.0</td>\n      <td>11.0</td>\n      <td>31.0</td>\n      <td>199.0</td>\n    </tr>\n    <tr>\n      <th>20741</th>\n      <td>2022</td>\n      <td>Paul Watson</td>\n      <td>SF</td>\n      <td>27.0</td>\n      <td>OKC</td>\n      <td>9.0</td>\n      <td>3.0</td>\n      <td>156.0</td>\n      <td>12.0</td>\n      <td>35.0</td>\n      <td>...</td>\n      <td>0.500</td>\n      <td>3.0</td>\n      <td>24.0</td>\n      <td>27.0</td>\n      <td>8.0</td>\n      <td>3.0</td>\n      <td>3.0</td>\n      <td>4.0</td>\n      <td>10.0</td>\n      <td>31.0</td>\n    </tr>\n    <tr>\n      <th>20742</th>\n      <td>2022</td>\n      <td>Aaron Wiggins</td>\n      <td>SG</td>\n      <td>23.0</td>\n      <td>OKC</td>\n      <td>50.0</td>\n      <td>35.0</td>\n      <td>1209.0</td>\n      <td>156.0</td>\n      <td>337.0</td>\n      <td>...</td>\n      <td>0.729</td>\n      <td>51.0</td>\n      <td>127.0</td>\n      <td>178.0</td>\n      <td>68.0</td>\n      <td>30.0</td>\n      <td>10.0</td>\n      <td>54.0</td>\n      <td>93.0</td>\n      <td>416.0</td>\n    </tr>\n    <tr>\n      <th>20743</th>\n      <td>2022</td>\n      <td>Kenrich Williams</td>\n      <td>SF</td>\n      <td>27.0</td>\n      <td>OKC</td>\n      <td>49.0</td>\n      <td>0.0</td>\n      <td>1072.0</td>\n      <td>146.0</td>\n      <td>317.0</td>\n      <td>...</td>\n      <td>0.545</td>\n      <td>75.0</td>\n      <td>145.0</td>\n      <td>220.0</td>\n      <td>108.0</td>\n      <td>44.0</td>\n      <td>10.0</td>\n      <td>46.0</td>\n      <td>81.0</td>\n      <td>363.0</td>\n    </tr>\n  </tbody>\n</table>\n<p>20744 rows × 30 columns</p>\n</div>"
     },
     "execution_count": 44,
     "metadata": {},
     "output_type": "execute_result"
    }
   ],
   "source": [
    "stats.drop(['Team Short'], axis=1)"
   ],
   "metadata": {
    "collapsed": false
   }
  },
  {
   "cell_type": "code",
   "execution_count": 45,
   "outputs": [
    {
     "data": {
      "text/plain": "73"
     },
     "execution_count": 45,
     "metadata": {},
     "output_type": "execute_result"
    }
   ],
   "source": [
    "len(team_lookup)"
   ],
   "metadata": {
    "collapsed": false
   }
  },
  {
   "cell_type": "code",
   "execution_count": 47,
   "outputs": [
    {
     "data": {
      "text/plain": "                       Player  Pos   Age Team Short\n0             Curly Armstrong  G-F  31.0        FTW\n1               Charlie Black  F-C  28.0        FTW\n2               Bob Carpenter  F-C  32.0        FTW\n3                  Bob Harris  F-C  22.0        FTW\n4                  Bill Henry    C  25.0        FTW\n...                       ...  ...   ...        ...\n20736  Jeremiah Robinson-Earl    C  21.0        OKC\n20738            Olivier Sarr    C  22.0        OKC\n20739          Zavier Simpson   PG  24.0        OKC\n20740        Lindy Waters III   SG  24.0        OKC\n20742           Aaron Wiggins   SG  23.0        OKC\n\n[4161 rows x 4 columns]",
      "text/html": "<div>\n<style scoped>\n    .dataframe tbody tr th:only-of-type {\n        vertical-align: middle;\n    }\n\n    .dataframe tbody tr th {\n        vertical-align: top;\n    }\n\n    .dataframe thead th {\n        text-align: right;\n    }\n</style>\n<table border=\"1\" class=\"dataframe\">\n  <thead>\n    <tr style=\"text-align: right;\">\n      <th></th>\n      <th>Player</th>\n      <th>Pos</th>\n      <th>Age</th>\n      <th>Team Short</th>\n    </tr>\n  </thead>\n  <tbody>\n    <tr>\n      <th>0</th>\n      <td>Curly Armstrong</td>\n      <td>G-F</td>\n      <td>31.0</td>\n      <td>FTW</td>\n    </tr>\n    <tr>\n      <th>1</th>\n      <td>Charlie Black</td>\n      <td>F-C</td>\n      <td>28.0</td>\n      <td>FTW</td>\n    </tr>\n    <tr>\n      <th>2</th>\n      <td>Bob Carpenter</td>\n      <td>F-C</td>\n      <td>32.0</td>\n      <td>FTW</td>\n    </tr>\n    <tr>\n      <th>3</th>\n      <td>Bob Harris</td>\n      <td>F-C</td>\n      <td>22.0</td>\n      <td>FTW</td>\n    </tr>\n    <tr>\n      <th>4</th>\n      <td>Bill Henry</td>\n      <td>C</td>\n      <td>25.0</td>\n      <td>FTW</td>\n    </tr>\n    <tr>\n      <th>...</th>\n      <td>...</td>\n      <td>...</td>\n      <td>...</td>\n      <td>...</td>\n    </tr>\n    <tr>\n      <th>20736</th>\n      <td>Jeremiah Robinson-Earl</td>\n      <td>C</td>\n      <td>21.0</td>\n      <td>OKC</td>\n    </tr>\n    <tr>\n      <th>20738</th>\n      <td>Olivier Sarr</td>\n      <td>C</td>\n      <td>22.0</td>\n      <td>OKC</td>\n    </tr>\n    <tr>\n      <th>20739</th>\n      <td>Zavier Simpson</td>\n      <td>PG</td>\n      <td>24.0</td>\n      <td>OKC</td>\n    </tr>\n    <tr>\n      <th>20740</th>\n      <td>Lindy Waters III</td>\n      <td>SG</td>\n      <td>24.0</td>\n      <td>OKC</td>\n    </tr>\n    <tr>\n      <th>20742</th>\n      <td>Aaron Wiggins</td>\n      <td>SG</td>\n      <td>23.0</td>\n      <td>OKC</td>\n    </tr>\n  </tbody>\n</table>\n<p>4161 rows × 4 columns</p>\n</div>"
     },
     "execution_count": 47,
     "metadata": {},
     "output_type": "execute_result"
    }
   ],
   "source": [
    "player_lookup"
   ],
   "metadata": {
    "collapsed": false
   }
  },
  {
   "cell_type": "code",
   "execution_count": 50,
   "outputs": [
    {
     "data": {
      "text/plain": "              playerName  seasonStartYear      salary inflationAdjSalary\n0          Patrick Ewing             1990  $4,250,000         $9,694,547\n1       Hot Rod Williams             1990  $3,785,000         $8,633,850\n2        Hakeem Olajuwon             1990  $3,175,000         $7,242,397\n3        Charles Barkley             1990  $2,900,000         $6,615,103\n4           Chris Mullin             1990  $2,850,000         $6,501,049\n...                  ...              ...         ...                ...\n15852    Jaime Echenique             2021     $53,176            $57,993\n15853       Luca Vildoza             2021     $42,789            $46,665\n15854     Zavier Simpson             2021     $37,223            $40,595\n15855  Mfiondu Kabengele             2021     $19,186            $20,924\n15856     Melvin Frazier             2021     $13,294            $14,498\n\n[15857 rows x 4 columns]",
      "text/html": "<div>\n<style scoped>\n    .dataframe tbody tr th:only-of-type {\n        vertical-align: middle;\n    }\n\n    .dataframe tbody tr th {\n        vertical-align: top;\n    }\n\n    .dataframe thead th {\n        text-align: right;\n    }\n</style>\n<table border=\"1\" class=\"dataframe\">\n  <thead>\n    <tr style=\"text-align: right;\">\n      <th></th>\n      <th>playerName</th>\n      <th>seasonStartYear</th>\n      <th>salary</th>\n      <th>inflationAdjSalary</th>\n    </tr>\n  </thead>\n  <tbody>\n    <tr>\n      <th>0</th>\n      <td>Patrick Ewing</td>\n      <td>1990</td>\n      <td>$4,250,000</td>\n      <td>$9,694,547</td>\n    </tr>\n    <tr>\n      <th>1</th>\n      <td>Hot Rod Williams</td>\n      <td>1990</td>\n      <td>$3,785,000</td>\n      <td>$8,633,850</td>\n    </tr>\n    <tr>\n      <th>2</th>\n      <td>Hakeem Olajuwon</td>\n      <td>1990</td>\n      <td>$3,175,000</td>\n      <td>$7,242,397</td>\n    </tr>\n    <tr>\n      <th>3</th>\n      <td>Charles Barkley</td>\n      <td>1990</td>\n      <td>$2,900,000</td>\n      <td>$6,615,103</td>\n    </tr>\n    <tr>\n      <th>4</th>\n      <td>Chris Mullin</td>\n      <td>1990</td>\n      <td>$2,850,000</td>\n      <td>$6,501,049</td>\n    </tr>\n    <tr>\n      <th>...</th>\n      <td>...</td>\n      <td>...</td>\n      <td>...</td>\n      <td>...</td>\n    </tr>\n    <tr>\n      <th>15852</th>\n      <td>Jaime Echenique</td>\n      <td>2021</td>\n      <td>$53,176</td>\n      <td>$57,993</td>\n    </tr>\n    <tr>\n      <th>15853</th>\n      <td>Luca Vildoza</td>\n      <td>2021</td>\n      <td>$42,789</td>\n      <td>$46,665</td>\n    </tr>\n    <tr>\n      <th>15854</th>\n      <td>Zavier Simpson</td>\n      <td>2021</td>\n      <td>$37,223</td>\n      <td>$40,595</td>\n    </tr>\n    <tr>\n      <th>15855</th>\n      <td>Mfiondu Kabengele</td>\n      <td>2021</td>\n      <td>$19,186</td>\n      <td>$20,924</td>\n    </tr>\n    <tr>\n      <th>15856</th>\n      <td>Melvin Frazier</td>\n      <td>2021</td>\n      <td>$13,294</td>\n      <td>$14,498</td>\n    </tr>\n  </tbody>\n</table>\n<p>15857 rows × 4 columns</p>\n</div>"
     },
     "execution_count": 50,
     "metadata": {},
     "output_type": "execute_result"
    }
   ],
   "source": [
    "salaries.drop(['Unnamed: 0.1', 'Unnamed: 0'], axis=1)"
   ],
   "metadata": {
    "collapsed": false
   }
  },
  {
   "cell_type": "code",
   "execution_count": 51,
   "outputs": [],
   "source": [
    "salaries.to_csv('nba data/player_salaries.csv')"
   ],
   "metadata": {
    "collapsed": false
   }
  },
  {
   "cell_type": "code",
   "execution_count": 55,
   "outputs": [],
   "source": [
    "team.drop(['Unnamed: 0', 'Team Short', 'Team Long'], inplace=True, axis=1)"
   ],
   "metadata": {
    "collapsed": false
   }
  },
  {
   "cell_type": "code",
   "execution_count": 56,
   "outputs": [],
   "source": [
    "team.to_csv('nba data/team_payrolls.csv')"
   ],
   "metadata": {
    "collapsed": false
   }
  },
  {
   "cell_type": "code",
   "execution_count": 58,
   "outputs": [],
   "source": [
    "salaries.drop(['Unnamed: 0', 'Unnamed: 0.1'], axis=1, inplace=True)"
   ],
   "metadata": {
    "collapsed": false
   }
  },
  {
   "cell_type": "code",
   "execution_count": 59,
   "outputs": [],
   "source": [
    "salaries.to_csv('nba data/player_salaries.csv')"
   ],
   "metadata": {
    "collapsed": false
   }
  },
  {
   "cell_type": "code",
   "execution_count": 66,
   "outputs": [],
   "source": [
    "team_lookup = team_lookup.drop_duplicates('Team Long')\n",
    "team_lookup.to_csv('nba data/team_lookup.csv')"
   ],
   "metadata": {
    "collapsed": false
   }
  },
  {
   "cell_type": "code",
   "execution_count": 2,
   "outputs": [
    {
     "data": {
      "text/plain": "       Unnamed: 0.1  Unnamed: 0  Season           Player  Pos   Age   Tm  \\\n0                 0           0    1950  Curly Armstrong  G-F  31.0  FTW   \n1                 1           1    1950     Cliff Barker   SG  29.0  INO   \n2                 2           2    1950    Leo Barnhorst   SF  25.0  CHS   \n3                 3           3    1950       Ed Bartels    F  24.0  TOT   \n4                 4           4    1950       Ed Bartels    F  24.0  DNN   \n...             ...         ...     ...              ...  ...   ...  ...   \n28232         29344         837    2022   Thaddeus Young   PF  33.0  TOR   \n28233         29345         838    2022       Trae Young   PG  23.0  ATL   \n28234         29346         839    2022   Omer Yurtseven    C  23.0  MIA   \n28235         29347         840    2022      Cody Zeller    C  29.0  POR   \n28236         29348         841    2022      Ivica Zubac    C  24.0  LAC   \n\n          G    GS      MP  ...    FT%    ORB    DRB    TRB    AST   STL   BLK  \\\n0      63.0   NaN     NaN  ...  0.705    NaN    NaN    NaN  176.0   NaN   NaN   \n1      49.0   NaN     NaN  ...  0.708    NaN    NaN    NaN  109.0   NaN   NaN   \n2      67.0   NaN     NaN  ...  0.698    NaN    NaN    NaN  140.0   NaN   NaN   \n3      15.0   NaN     NaN  ...  0.559    NaN    NaN    NaN   20.0   NaN   NaN   \n4      13.0   NaN     NaN  ...  0.548    NaN    NaN    NaN   20.0   NaN   NaN   \n...     ...   ...     ...  ...    ...    ...    ...    ...    ...   ...   ...   \n28232  26.0   0.0   475.0  ...  0.481   40.0   75.0  115.0   45.0  31.0  11.0   \n28233  76.0  76.0  2652.0  ...  0.904   50.0  234.0  284.0  737.0  72.0   7.0   \n28234  56.0  12.0   706.0  ...  0.623   85.0  209.0  294.0   49.0  17.0  20.0   \n28235  27.0   0.0   355.0  ...  0.776   50.0   75.0  125.0   22.0   8.0   6.0   \n28236  76.0  76.0  1852.0  ...  0.727  217.0  427.0  644.0  120.0  36.0  77.0   \n\n         TOV     PF     PTS  \n0        NaN  217.0   458.0  \n1        NaN   99.0   279.0  \n2        NaN  192.0   438.0  \n3        NaN   29.0    63.0  \n4        NaN   27.0    59.0  \n...      ...    ...     ...  \n28232   22.0   43.0   164.0  \n28233  303.0  128.0  2155.0  \n28234   41.0   84.0   299.0  \n28235   19.0   56.0   140.0  \n28236  114.0  203.0   785.0  \n\n[28237 rows x 32 columns]",
      "text/html": "<div>\n<style scoped>\n    .dataframe tbody tr th:only-of-type {\n        vertical-align: middle;\n    }\n\n    .dataframe tbody tr th {\n        vertical-align: top;\n    }\n\n    .dataframe thead th {\n        text-align: right;\n    }\n</style>\n<table border=\"1\" class=\"dataframe\">\n  <thead>\n    <tr style=\"text-align: right;\">\n      <th></th>\n      <th>Unnamed: 0.1</th>\n      <th>Unnamed: 0</th>\n      <th>Season</th>\n      <th>Player</th>\n      <th>Pos</th>\n      <th>Age</th>\n      <th>Tm</th>\n      <th>G</th>\n      <th>GS</th>\n      <th>MP</th>\n      <th>...</th>\n      <th>FT%</th>\n      <th>ORB</th>\n      <th>DRB</th>\n      <th>TRB</th>\n      <th>AST</th>\n      <th>STL</th>\n      <th>BLK</th>\n      <th>TOV</th>\n      <th>PF</th>\n      <th>PTS</th>\n    </tr>\n  </thead>\n  <tbody>\n    <tr>\n      <th>0</th>\n      <td>0</td>\n      <td>0</td>\n      <td>1950</td>\n      <td>Curly Armstrong</td>\n      <td>G-F</td>\n      <td>31.0</td>\n      <td>FTW</td>\n      <td>63.0</td>\n      <td>NaN</td>\n      <td>NaN</td>\n      <td>...</td>\n      <td>0.705</td>\n      <td>NaN</td>\n      <td>NaN</td>\n      <td>NaN</td>\n      <td>176.0</td>\n      <td>NaN</td>\n      <td>NaN</td>\n      <td>NaN</td>\n      <td>217.0</td>\n      <td>458.0</td>\n    </tr>\n    <tr>\n      <th>1</th>\n      <td>1</td>\n      <td>1</td>\n      <td>1950</td>\n      <td>Cliff Barker</td>\n      <td>SG</td>\n      <td>29.0</td>\n      <td>INO</td>\n      <td>49.0</td>\n      <td>NaN</td>\n      <td>NaN</td>\n      <td>...</td>\n      <td>0.708</td>\n      <td>NaN</td>\n      <td>NaN</td>\n      <td>NaN</td>\n      <td>109.0</td>\n      <td>NaN</td>\n      <td>NaN</td>\n      <td>NaN</td>\n      <td>99.0</td>\n      <td>279.0</td>\n    </tr>\n    <tr>\n      <th>2</th>\n      <td>2</td>\n      <td>2</td>\n      <td>1950</td>\n      <td>Leo Barnhorst</td>\n      <td>SF</td>\n      <td>25.0</td>\n      <td>CHS</td>\n      <td>67.0</td>\n      <td>NaN</td>\n      <td>NaN</td>\n      <td>...</td>\n      <td>0.698</td>\n      <td>NaN</td>\n      <td>NaN</td>\n      <td>NaN</td>\n      <td>140.0</td>\n      <td>NaN</td>\n      <td>NaN</td>\n      <td>NaN</td>\n      <td>192.0</td>\n      <td>438.0</td>\n    </tr>\n    <tr>\n      <th>3</th>\n      <td>3</td>\n      <td>3</td>\n      <td>1950</td>\n      <td>Ed Bartels</td>\n      <td>F</td>\n      <td>24.0</td>\n      <td>TOT</td>\n      <td>15.0</td>\n      <td>NaN</td>\n      <td>NaN</td>\n      <td>...</td>\n      <td>0.559</td>\n      <td>NaN</td>\n      <td>NaN</td>\n      <td>NaN</td>\n      <td>20.0</td>\n      <td>NaN</td>\n      <td>NaN</td>\n      <td>NaN</td>\n      <td>29.0</td>\n      <td>63.0</td>\n    </tr>\n    <tr>\n      <th>4</th>\n      <td>4</td>\n      <td>4</td>\n      <td>1950</td>\n      <td>Ed Bartels</td>\n      <td>F</td>\n      <td>24.0</td>\n      <td>DNN</td>\n      <td>13.0</td>\n      <td>NaN</td>\n      <td>NaN</td>\n      <td>...</td>\n      <td>0.548</td>\n      <td>NaN</td>\n      <td>NaN</td>\n      <td>NaN</td>\n      <td>20.0</td>\n      <td>NaN</td>\n      <td>NaN</td>\n      <td>NaN</td>\n      <td>27.0</td>\n      <td>59.0</td>\n    </tr>\n    <tr>\n      <th>...</th>\n      <td>...</td>\n      <td>...</td>\n      <td>...</td>\n      <td>...</td>\n      <td>...</td>\n      <td>...</td>\n      <td>...</td>\n      <td>...</td>\n      <td>...</td>\n      <td>...</td>\n      <td>...</td>\n      <td>...</td>\n      <td>...</td>\n      <td>...</td>\n      <td>...</td>\n      <td>...</td>\n      <td>...</td>\n      <td>...</td>\n      <td>...</td>\n      <td>...</td>\n      <td>...</td>\n    </tr>\n    <tr>\n      <th>28232</th>\n      <td>29344</td>\n      <td>837</td>\n      <td>2022</td>\n      <td>Thaddeus Young</td>\n      <td>PF</td>\n      <td>33.0</td>\n      <td>TOR</td>\n      <td>26.0</td>\n      <td>0.0</td>\n      <td>475.0</td>\n      <td>...</td>\n      <td>0.481</td>\n      <td>40.0</td>\n      <td>75.0</td>\n      <td>115.0</td>\n      <td>45.0</td>\n      <td>31.0</td>\n      <td>11.0</td>\n      <td>22.0</td>\n      <td>43.0</td>\n      <td>164.0</td>\n    </tr>\n    <tr>\n      <th>28233</th>\n      <td>29345</td>\n      <td>838</td>\n      <td>2022</td>\n      <td>Trae Young</td>\n      <td>PG</td>\n      <td>23.0</td>\n      <td>ATL</td>\n      <td>76.0</td>\n      <td>76.0</td>\n      <td>2652.0</td>\n      <td>...</td>\n      <td>0.904</td>\n      <td>50.0</td>\n      <td>234.0</td>\n      <td>284.0</td>\n      <td>737.0</td>\n      <td>72.0</td>\n      <td>7.0</td>\n      <td>303.0</td>\n      <td>128.0</td>\n      <td>2155.0</td>\n    </tr>\n    <tr>\n      <th>28234</th>\n      <td>29346</td>\n      <td>839</td>\n      <td>2022</td>\n      <td>Omer Yurtseven</td>\n      <td>C</td>\n      <td>23.0</td>\n      <td>MIA</td>\n      <td>56.0</td>\n      <td>12.0</td>\n      <td>706.0</td>\n      <td>...</td>\n      <td>0.623</td>\n      <td>85.0</td>\n      <td>209.0</td>\n      <td>294.0</td>\n      <td>49.0</td>\n      <td>17.0</td>\n      <td>20.0</td>\n      <td>41.0</td>\n      <td>84.0</td>\n      <td>299.0</td>\n    </tr>\n    <tr>\n      <th>28235</th>\n      <td>29347</td>\n      <td>840</td>\n      <td>2022</td>\n      <td>Cody Zeller</td>\n      <td>C</td>\n      <td>29.0</td>\n      <td>POR</td>\n      <td>27.0</td>\n      <td>0.0</td>\n      <td>355.0</td>\n      <td>...</td>\n      <td>0.776</td>\n      <td>50.0</td>\n      <td>75.0</td>\n      <td>125.0</td>\n      <td>22.0</td>\n      <td>8.0</td>\n      <td>6.0</td>\n      <td>19.0</td>\n      <td>56.0</td>\n      <td>140.0</td>\n    </tr>\n    <tr>\n      <th>28236</th>\n      <td>29348</td>\n      <td>841</td>\n      <td>2022</td>\n      <td>Ivica Zubac</td>\n      <td>C</td>\n      <td>24.0</td>\n      <td>LAC</td>\n      <td>76.0</td>\n      <td>76.0</td>\n      <td>1852.0</td>\n      <td>...</td>\n      <td>0.727</td>\n      <td>217.0</td>\n      <td>427.0</td>\n      <td>644.0</td>\n      <td>120.0</td>\n      <td>36.0</td>\n      <td>77.0</td>\n      <td>114.0</td>\n      <td>203.0</td>\n      <td>785.0</td>\n    </tr>\n  </tbody>\n</table>\n<p>28237 rows × 32 columns</p>\n</div>"
     },
     "execution_count": 2,
     "metadata": {},
     "output_type": "execute_result"
    }
   ],
   "source": [
    "stats = pd.read_csv('nba data/player_stats.csv')\n",
    "stats"
   ],
   "metadata": {
    "collapsed": false
   }
  },
  {
   "cell_type": "code",
   "execution_count": 5,
   "outputs": [],
   "source": [
    "stats.drop(['Unnamed: 0', 'Unnamed: 0.1'], inplace=True, axis=1)\n",
    "stats.to_csv('nba data/stats.csv')"
   ],
   "metadata": {
    "collapsed": false
   }
  }
 ],
 "metadata": {
  "kernelspec": {
   "display_name": "Python 3",
   "language": "python",
   "name": "python3"
  },
  "language_info": {
   "codemirror_mode": {
    "name": "ipython",
    "version": 2
   },
   "file_extension": ".py",
   "mimetype": "text/x-python",
   "name": "python",
   "nbconvert_exporter": "python",
   "pygments_lexer": "ipython2",
   "version": "2.7.6"
  }
 },
 "nbformat": 4,
 "nbformat_minor": 0
}
